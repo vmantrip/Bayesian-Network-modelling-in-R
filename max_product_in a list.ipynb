{
 "cells": [
  {
   "cell_type": "markdown",
   "id": "c4e87e9b",
   "metadata": {},
   "source": [
    "# Video Assignment - Maximum Product"
   ]
  },
  {
   "cell_type": "markdown",
   "id": "fbf50f68",
   "metadata": {},
   "source": [
    "Question Link: https://leetcode.com/problems/maximum-product-of-two-elements-in-an-array\n",
    "\n",
    "\n",
    "Problem statement: Given the array of integers nums, you will choose two different indices i and j of that array. Return the maximum value of (nums[i]-1)*(nums[j]-1).\n",
    "\n",
    "Constraints:\n",
    "\n",
    "2 <= nums.length <= 500\n",
    "\n",
    "1 <= nums[i] <= 10^3"
   ]
  },
  {
   "cell_type": "code",
   "execution_count": 1,
   "id": "779be1ab",
   "metadata": {},
   "outputs": [
    {
     "data": {
      "text/plain": [
       "7031"
      ]
     },
     "execution_count": 1,
     "metadata": {},
     "output_type": "execute_result"
    }
   ],
   "source": [
    "# Solution-1: Using 2 loops (Nested loop logic)\n",
    "from typing import List\n",
    "nums = [11,34,90,80]\n",
    "def maxProduct(nums: List[int]) -> int:\n",
    "    length = len(nums)\n",
    "    max_prod = 0\n",
    "    max_indices = (0, 0)\n",
    "    for i in range(length):# first loop - O(n)\n",
    "        current_val = nums[i]\n",
    "        j = i + 1\n",
    "        while j < length: #Second loop - O(n)          \n",
    "            next_val = nums[j]\n",
    "            prod = current_val * next_val\n",
    "            if prod > max_prod:\n",
    "                max_vals = (nums[i], nums[j])# Here i am getting the maximum values stored as a tuple\n",
    "                max_prod = prod\n",
    "            j += 1\n",
    "    i, j = max_vals      \n",
    "    max_prod = (i-1) * (j-1)    \n",
    "    return max_prod\n",
    "            \n",
    "maxProduct(nums) \n",
    "#Operations performed: 2 loops are used \n",
    "#Upto this calculation we have used tuple variable - max_indices,list variables-nums, \n",
    "#integer variables - length, max_prod, current_val, next_val, prod ,i ,j      "
   ]
  },
  {
   "cell_type": "markdown",
   "id": "9b2219b1",
   "metadata": {},
   "source": [
    "As per the description of variables stated in  above comments, the code is using a constant amount of space other than the input list titled 'nums'. Hence Space Complexity is O(1).\n",
    "\n",
    "Since we are using two for loops here with indices i and j to explore all possible combinations, we need to travel the list 2 times. 1st time in the for loop with index i and sexond tie in the while loop with index j whose least value is i+1 and maximum values in len(nums)-1. Thus, Time complexity is O(n * n). (ie: O(n2))\n",
    "\n",
    "Time complexity - O(n2)\n",
    "\n",
    "Space Complexity - O(1)"
   ]
  },
  {
   "cell_type": "code",
   "execution_count": 4,
   "id": "808cf7ad",
   "metadata": {},
   "outputs": [
    {
     "data": {
      "text/plain": [
       "7031"
      ]
     },
     "execution_count": 4,
     "metadata": {},
     "output_type": "execute_result"
    }
   ],
   "source": [
    "# Solution-2: Using a sorting.\n",
    "nums = [11,34,90,80]\n",
    "def maxProduct(nums: List[int]) -> int:\n",
    "    nums.sort() # n log n\n",
    "    length = len(nums)\n",
    "    return (nums[length-1]-1) * (nums[length-2]-1)\n",
    "maxProduct(nums)  \n",
    "#Operations used: Sorting and Reading\n",
    "#List variable: input-nums\n",
    "#Integer variable: length"
   ]
  },
  {
   "cell_type": "markdown",
   "id": "9fdcc664",
   "metadata": {},
   "source": [
    "In above code, first we perform sorting of the input list. As per Averge case in python language, the sorting operation has a time complexity of: O(n * log(n)).\n",
    "\n",
    "As we are not using additional data structures and size of variable length does not depend on input size, the space complexity here is O(1).\n",
    "\n",
    "Time complexity - O(n * log(n))\n",
    "\n",
    "Space Complexity - O(1)"
   ]
  },
  {
   "cell_type": "code",
   "execution_count": 5,
   "id": "6496e3c1",
   "metadata": {},
   "outputs": [
    {
     "name": "stdout",
     "output_type": "stream",
     "text": [
      "3 0\n",
      "4 3\n"
     ]
    },
    {
     "data": {
      "text/plain": [
       "6"
      ]
     },
     "execution_count": 5,
     "metadata": {},
     "output_type": "execute_result"
    }
   ],
   "source": [
    "#Solution-3: \n",
    "nums = [-100,-99,3,4]\n",
    "def maxProduct(nums: List[int]) -> int:\n",
    "    max_val = 0\n",
    "    max_val_1 = 0\n",
    "    for val in nums:\n",
    "        if val >= max_val:\n",
    "            max_val_1 = max_val\n",
    "            max_val = val\n",
    "            print(max_val, max_val_1)\n",
    "        elif val > max_val_1:\n",
    "            max_val_1 = val\n",
    "            \n",
    "    return (max_val-1) * (max_val_1-1)\n",
    "    \n",
    "maxProduct(nums)   \n",
    "#Operations performed: Single loop of the list and updating variables val, max_val and max_val_1\n",
    "#Variables: input: nums-list."
   ]
  },
  {
   "cell_type": "markdown",
   "id": "ba0c689a",
   "metadata": {},
   "source": [
    "As per the operations mentioned above, a single loop of the list means time complexity of O(n).\n",
    "\n",
    "Since we are not using additional data structures and the size of varibles val, max_val and max_val_1 does not depend on the size of input list, the time complexity is O(1).\n",
    "\n",
    "Time complexity - O(n)\n",
    "\n",
    "Space Complexity - O(1)"
   ]
  },
  {
   "cell_type": "markdown",
   "id": "9b0bbe55",
   "metadata": {},
   "source": [
    "References:\n",
    "\n",
    "https://cda500.netlify.app/chapters/12/week1_2.html"
   ]
  },
  {
   "cell_type": "code",
   "execution_count": null,
   "id": "834b65d1",
   "metadata": {},
   "outputs": [],
   "source": []
  },
  {
   "cell_type": "code",
   "execution_count": null,
   "id": "82684ca6",
   "metadata": {},
   "outputs": [],
   "source": []
  },
  {
   "cell_type": "code",
   "execution_count": null,
   "id": "59bc1c55",
   "metadata": {},
   "outputs": [],
   "source": []
  },
  {
   "cell_type": "code",
   "execution_count": null,
   "id": "1e2d4470",
   "metadata": {},
   "outputs": [],
   "source": []
  },
  {
   "cell_type": "code",
   "execution_count": null,
   "id": "2171a3c9",
   "metadata": {},
   "outputs": [],
   "source": []
  }
 ],
 "metadata": {
  "kernelspec": {
   "display_name": "Python 3 (ipykernel)",
   "language": "python",
   "name": "python3"
  },
  "language_info": {
   "codemirror_mode": {
    "name": "ipython",
    "version": 3
   },
   "file_extension": ".py",
   "mimetype": "text/x-python",
   "name": "python",
   "nbconvert_exporter": "python",
   "pygments_lexer": "ipython3",
   "version": "3.11.3"
  }
 },
 "nbformat": 4,
 "nbformat_minor": 5
}
