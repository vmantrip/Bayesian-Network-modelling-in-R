{
 "cells": [
  {
   "cell_type": "markdown",
   "id": "f04f4c20",
   "metadata": {},
   "source": [
    "# Water container problem\n",
    "\n",
    "Leetcode link: https://leetcode.com/problems/container-with-most-water/\n",
    "\n",
    "Description: You are given an integer array height of length n. There are n vertical lines drawn such that the two endpoints of the ith line are (i, 0) and (i, height[i]).\n",
    "\n",
    "Find two lines that together with the x-axis form a container, such that the container contains the most water.\n",
    "\n",
    " **Return the maximum amount of water a container can store.**\n",
    "\n",
    "Constraint: Notice that you may not slant the container."
   ]
  },
  {
   "cell_type": "code",
   "execution_count": 16,
   "id": "4272f7bd",
   "metadata": {},
   "outputs": [
    {
     "data": {
      "image/png": "[encoded data removed]",
      "text/plain": [
       "<Figure size 640x480 with 1 Axes>"
      ]
     },
     "metadata": {},
     "output_type": "display_data"
    }
   ],
   "source": [
    "import matplotlib.pyplot as plt\n",
    "height = [1,8,6,2,5,4,8,3,7]\n",
    "x=range(len(height))\n",
    "plt.bar(x,height)\n",
    "plt.show()\n",
    "# In below plot the container is formed from index 1 to 8 with aheight of 7.\n",
    "# We understand below how we got the values."
   ]
  },
  {
   "cell_type": "code",
   "execution_count": 17,
   "id": "577b397c",
   "metadata": {},
   "outputs": [
    {
     "name": "stdout",
     "output_type": "stream",
     "text": [
      "49\n"
     ]
    }
   ],
   "source": [
    "#Solution1\n",
    "height = [1,8,6,2,5,4,8,3,7]\n",
    "\n",
    "max_area = 0\n",
    "for left_index in range(len(height)):# Here we decide left index\n",
    "    for right_index in range(left_index + 1, len(height)):#Starting after the above left index, the right index takes up values.\n",
    "        width = right_index - left_index\n",
    "        low_height = min(height[left_index], height[right_index])\n",
    "        \n",
    "        area = width * low_height\n",
    "        \n",
    "        if area > max_area:\n",
    "            max_area = area\n",
    "            \n",
    "print(max_area)     "
   ]
  },
  {
   "cell_type": "markdown",
   "id": "0b564f4a",
   "metadata": {},
   "source": [
    "Time complexity: Here we have a nested for loop structure. Thus Time complexity is  O(n^2).\n",
    "\n",
    "Space complexity: No new data structures are created. Thus, space complexity is O(1)."
   ]
  },
  {
   "cell_type": "code",
   "execution_count": 18,
   "id": "a268021b",
   "metadata": {},
   "outputs": [
    {
     "name": "stdout",
     "output_type": "stream",
     "text": [
      "49\n"
     ]
    }
   ],
   "source": [
    "#Solution2\n",
    "height = [1,8,6,2,5,4,8,3,7]\n",
    "max_area = 0\n",
    "\n",
    "left_index = 0\n",
    "right_index = len(height)-1\n",
    "\n",
    "while left_index < right_index:\n",
    "    width = right_index - left_index# This is difference between indices to get base of container.\n",
    "    low_height = min(height[left_index], height[right_index])#Here we assign the height of container.\n",
    "    area = width * low_height# With above two calculated values we find the area.      \n",
    "    if area > max_area:# Area is compared and updated accordingly!\n",
    "        max_area = area\n",
    "    if height[left_index] <= height[right_index]: #Insight: Taking chance. Here we decide which pointer to move!\n",
    "        \"\"\"\n",
    "         We move the lower value because we have chance of getting a larger number that might increase the area.\n",
    "         Remember the lower of the two heights determines the area.\n",
    "         We are taking a chance by moving the lower pointer value in case the next value is higher. \n",
    "        \"\"\"\n",
    "        \n",
    "        left_index += 1# We are updating only left index!\n",
    "    else:\n",
    "        right_index -= 1# We are updating only right index!\n",
    "print(max_area)"
   ]
  },
  {
   "cell_type": "markdown",
   "id": "199887e0",
   "metadata": {},
   "source": [
    "With reference to the comments mentioned above we can understand the only left index or right index is being updated in an iteration unlike 2sum and 3 sum problems where we were updating both indices at the same time! This is because: \"We are taking a chance by moving the lower pointer value in case the next value is higher.\""
   ]
  },
  {
   "cell_type": "markdown",
   "id": "ad7f6c2f",
   "metadata": {},
   "source": [
    "Time complexity: Due to one while loop the iteration time depens on length of input list. Hence, time complexity is O(n).\n",
    "\n",
    "Space complexity: As no new data structure is created. Space complexity is O(1)."
   ]
  },
  {
   "cell_type": "code",
   "execution_count": 19,
   "id": "7d1128a8",
   "metadata": {},
   "outputs": [
    {
     "name": "stdout",
     "output_type": "stream",
     "text": [
      "(21, 60, 'Index1 is 1', 'Index2 is 5')\n"
     ]
    }
   ],
   "source": [
    "#2 sum problem\n",
    "# Solution 1-Brute force lookup\n",
    "\"\"\"\n",
    "Here 2 for loops are used to search for required values in the list the add up to the target.\n",
    "Index variables are also checked to avoid repeated additions and additions with element itself.\n",
    "The algorithm is Naive and time consuming for large datsets\n",
    "Insight: 2 pointer logic is used wher both pointers are travelling in \"SAME\" direction from starting to end of list.\n",
    "\"\"\"\n",
    "def two_sum(nums, target):\n",
    "    N = len(nums)\n",
    "    for i in range(N):# First for loop to iterate 1st pointer i.\n",
    "        val_at_i = nums[i]\n",
    "        for j in range(N):# 2nd for loop to iterate second pointer j.\n",
    "            val_at_j = nums[j]\n",
    "            if (val_at_i + val_at_j) == target and i != j:#Checking if target sum is achieved and indices are different.\n",
    "                return (val_at_i, val_at_j,f'Index1 is {i}',f'Index2 is {j}')\n",
    "\n",
    "nums = [1,21,3,14,5,60,7,6,40]\n",
    "target = 81\n",
    "print(two_sum(nums, target))"
   ]
  },
  {
   "cell_type": "code",
   "execution_count": 20,
   "id": "f950d62c",
   "metadata": {},
   "outputs": [
    {
     "name": "stdout",
     "output_type": "stream",
     "text": [
      "[-4, -1, -1, 0, 1, 2] -1 2 Target is 0. Sum is -3.\n",
      "[-4, -1, -1, 0, 1, 2] -1 2 Target is 0. Sum is -3.\n",
      "[-4, -1, -1, 0, 1, 2] 0 2 Target is 0. Sum is -2.\n",
      "[-4, -1, -1, 0, 1, 2] 1 2 Target is 0. Sum is -1.\n",
      "[-1, -1, 0, 1, 2] -1 2 Target is 0. Sum is 0.\n",
      "[-1, 0, 1, 2] 0 2 Target is 0. Sum is 1.\n",
      "[-1, 0, 1, 2] 0 1 Target is 0. Sum is 0.\n",
      "[0, 1, 2] 1 2 Target is 0. Sum is 3.\n",
      "[(2, -1, -1), (1, -1, 0)]\n"
     ]
    }
   ],
   "source": [
    "#3 sum solution\n",
    "# Solution\n",
    "\n",
    "\"\"\"\n",
    "Here the 3 sum logic can be thought of as a 2 pointer logic in a list whose length is decreasing from one end.\n",
    "In below exapmle, i - pointer1 is changing length of list. \n",
    "left_p and right_p are 2 pointers inside the list created by pointer i\n",
    "\"\"\"\n",
    "nums = [-1,0,1,2,-1,-4]\n",
    "\n",
    "def threeSum(nums, target):\n",
    "    combinations = []\n",
    "    nums.sort() # n log n\n",
    "    \n",
    "    N = len(nums)\n",
    "    for i in range(0, N-2):#Pointer1\n",
    "        left_p = i + 1#Pointer2\n",
    "        right_p = N-1#Pointer3\n",
    "        \n",
    "        while (left_p < right_p):\n",
    "            x, y, z = nums[right_p], nums[i], nums[left_p]\n",
    "            \n",
    "            triplet = x + y + z\n",
    "            print(nums[i:len(nums)],nums[left_p],nums[right_p],f'Target is {target}. Sum is {triplet}.')# Understanding comparisons!\n",
    "            if triplet == target:#If Target is achieved the values are stored in list named combinations and while loop breaks. \n",
    "                combinations.append((x,y,z))\n",
    "                break\n",
    "            elif triplet < target:\n",
    "                left_p += 1\n",
    "            elif triplet > target:\n",
    "                right_p -= 1\n",
    "    return combinations \n",
    "\n",
    "print(threeSum(nums, 0))        "
   ]
  },
  {
   "cell_type": "code",
   "execution_count": 21,
   "id": "f39e82c7",
   "metadata": {},
   "outputs": [],
   "source": [
    "#2sum problem: Two pointers are involved. Both pointers move in the same direction\n",
    "#3sum problem: 3 pointers are involved. One pointer adjusts length of the list from end end.\n",
    "#Rest of the 2 pointers move between the first pointer and other free end of the list."
   ]
  },
  {
   "cell_type": "markdown",
   "id": "03def172",
   "metadata": {},
   "source": [
    "References: https://cda500.netlify.app/chapters/intro.html\n"
   ]
  },
  {
   "cell_type": "code",
   "execution_count": null,
   "id": "0b396ba6",
   "metadata": {},
   "outputs": [],
   "source": []
  },
  {
   "cell_type": "code",
   "execution_count": null,
   "id": "01e29cfa",
   "metadata": {},
   "outputs": [],
   "source": []
  },
  {
   "cell_type": "code",
   "execution_count": null,
   "id": "4a548f22",
   "metadata": {},
   "outputs": [],
   "source": []
  },
  {
   "cell_type": "code",
   "execution_count": null,
   "id": "33679f36",
   "metadata": {},
   "outputs": [],
   "source": []
  },
  {
   "cell_type": "code",
   "execution_count": null,
   "id": "171602d5",
   "metadata": {},
   "outputs": [],
   "source": []
  },
  {
   "cell_type": "code",
   "execution_count": null,
   "id": "c93b36ff",
   "metadata": {},
   "outputs": [],
   "source": []
  }
 ],
 "metadata": {
  "kernelspec": {
   "display_name": "Python 3 (ipykernel)",
   "language": "python",
   "name": "python3"
  },
  "language_info": {
   "codemirror_mode": {
    "name": "ipython",
    "version": 3
   },
   "file_extension": ".py",
   "mimetype": "text/x-python",
   "name": "python",
   "nbconvert_exporter": "python",
   "pygments_lexer": "ipython3",
   "version": "3.11.3"
  }
 },
 "nbformat": 4,
 "nbformat_minor": 5
}
