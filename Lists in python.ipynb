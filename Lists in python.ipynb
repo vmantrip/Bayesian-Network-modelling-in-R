{
 "cells": [
  {
   "cell_type": "markdown",
   "id": "6337b74f",
   "metadata": {},
   "source": [
    "# Analysis Homework1"
   ]
  },
  {
   "cell_type": "markdown",
   "id": "d00bd9a0",
   "metadata": {},
   "source": [
    "## Q1) What is a data structure?\n",
    "\n",
    "Ans: Data structures refer to how data is organised. Data structures organise and influence the structure and efficiency of code. The  choice of data strucure is determined by the goal/task that needs to be accomplished by a given code.\n",
    "\n",
    "Operations that are performed using data structures are: Read, Search, Insert and Delete.\n",
    "\n",
    "Examples of Data strucures observed in Python Programming Language are: List, Tuple, Dictionary and set."
   ]
  },
  {
   "cell_type": "markdown",
   "id": "1364aaf7",
   "metadata": {},
   "source": [
    "## Q2) The first data structure we studied is a list, and we summarized seven properties of a list by asking seven questions. Answer these seven questions for a list and what the answer means. These answers should be about Python lists, not any other language. Use average case.\n",
    "\n",
    "Ans: The 7 questions dicussed in class for lists in python are: \n",
    "1) Reading \n",
    "\n",
    "2) Searching for a value not contained within the list \n",
    "\n",
    "3) Insertion at the beginning of the list \n",
    "\n",
    "4) Insertion at the end of the list \n",
    "\n",
    "5) Deletion at the beginning of the list \n",
    "\n",
    "6) Deletion at the end of the list \n",
    "\n",
    "7) Sorting the list \n",
    "\n",
    "To answer above questions\n"
   ]
  },
  {
   "cell_type": "code",
   "execution_count": 13,
   "id": "43aecfd8",
   "metadata": {},
   "outputs": [
    {
     "name": "stdout",
     "output_type": "stream",
     "text": [
      "[2, 4, 6, 8, 10, 12, 14, 16, 18, 20, 22, 24, 26, 28] \n",
      " 6 \n",
      " length of my list is 14\n"
     ]
    }
   ],
   "source": [
    "#1.Reading: The average case time complexity for reading an element/ Get Item from a Python list is O(1).\n",
    "# In the reading operation we know the location of data we want to get.\n",
    "# That is, due to list indexing in python, index is already known, only data at the particular index needs to be retrived.\n",
    "list1 = [i*2 for i in range(1,15)]\n",
    "\n",
    "print(list1,'\\n',list1[2],'\\n',f'length of my list is {len(list1)}')"
   ]
  },
  {
   "cell_type": "code",
   "execution_count": 14,
   "id": "1c17fb66",
   "metadata": {},
   "outputs": [
    {
     "name": "stdout",
     "output_type": "stream",
     "text": [
      "22 ns ± 2.81 ns per loop (mean ± std. dev. of 7 runs, 10,000,000 loops each)\n"
     ]
    }
   ],
   "source": [
    "%%timeit\n",
    "list1[2]"
   ]
  },
  {
   "cell_type": "code",
   "execution_count": 15,
   "id": "89eb74a0",
   "metadata": {},
   "outputs": [
    {
     "name": "stdout",
     "output_type": "stream",
     "text": [
      "22.7 ns ± 1.99 ns per loop (mean ± std. dev. of 7 runs, 10,000,000 loops each)\n"
     ]
    }
   ],
   "source": [
    "%%timeit\n",
    "list1[9]"
   ]
  },
  {
   "cell_type": "markdown",
   "id": "d93fa94d",
   "metadata": {},
   "source": [
    "As observed above, the reading operation is nearly uniform for reading 3rd element and 10th element. This means, time for reading operation is independent of length of the list."
   ]
  },
  {
   "cell_type": "code",
   "execution_count": 29,
   "id": "808dffae",
   "metadata": {},
   "outputs": [
    {
     "name": "stdout",
     "output_type": "stream",
     "text": [
      "[2, 4, 6, 8, 10, 12, 14, 16, 18, 20, 22, 24, 26, 28, 30] \n",
      " [5, 10, 15, 20, 25, 30, 35, 40, 45, 50, 55, 60, 65, 70, 75, 80, 85, 90, 95, 100, 105, 110, 115, 120, 125, 130, 135, 140, 145, 150]\n",
      "Length of list1 is 15.\n",
      "Length of list2 is 30.\n",
      "False\n",
      "False\n"
     ]
    }
   ],
   "source": [
    "# 2.Searching: A value not contained within the list \n",
    "list1 = [i*2 for i in range(1,16)]\n",
    "list2 = [i*5 for i in range(1,31)]\n",
    "print(list1,'\\n',list2)\n",
    "print(f'Length of list1 is {len(list1)}.\\nLength of list2 is {len(list2)}.')\n",
    "print(1000 in list1)\n",
    "print(10000 in list2)"
   ]
  },
  {
   "cell_type": "code",
   "execution_count": 30,
   "id": "9a87adc2",
   "metadata": {},
   "outputs": [
    {
     "name": "stdout",
     "output_type": "stream",
     "text": [
      "133 ns ± 5.47 ns per loop (mean ± std. dev. of 7 runs, 10,000,000 loops each)\n"
     ]
    }
   ],
   "source": [
    "%%timeit\n",
    "1000 in list1"
   ]
  },
  {
   "cell_type": "code",
   "execution_count": 31,
   "id": "6163d006",
   "metadata": {},
   "outputs": [
    {
     "name": "stdout",
     "output_type": "stream",
     "text": [
      "252 ns ± 20.8 ns per loop (mean ± std. dev. of 7 runs, 1,000,000 loops each)\n"
     ]
    }
   ],
   "source": [
    "%%timeit\n",
    "10000 in list2"
   ]
  },
  {
   "cell_type": "markdown",
   "id": "73fe33ef",
   "metadata": {},
   "source": [
    "As observed above, the searching operation is NOT UNIFORM for  both lists, the time for searching in list2 is greater(nearly twice!) than time for searchinng in list1 also length of list2 is twice the size of list1. This means, time for searching operation is dependent on length of the list. This is represented as O(n)."
   ]
  },
  {
   "cell_type": "code",
   "execution_count": 68,
   "id": "d457cbc2",
   "metadata": {},
   "outputs": [
    {
     "name": "stdout",
     "output_type": "stream",
     "text": [
      "[2, 4, 6, 8, 10, 12] \n",
      " [2, 4, 6, 8, 10, 12, 14, 16, 18, 20, 22, 24, 26, 28, 30, 32, 34, 36, 38, 40, 42, 44, 46, 48, 50, 52, 54, 56, 58, 60]\n",
      "Length of list1 is 6.\n",
      "Length of list2 is 30.\n"
     ]
    }
   ],
   "source": [
    "#3. Insertion at the beginning of the list \n",
    "list1 = [i*2 for i in range(1,7)]\n",
    "list2 = [i*2 for i in range(1,31)]\n",
    "print(list1,'\\n',list2)\n",
    "print(f'Length of list1 is {len(list1)}.\\nLength of list2 is {len(list2)}.')\n",
    "add_on=1000\n"
   ]
  },
  {
   "cell_type": "code",
   "execution_count": 69,
   "id": "3d25f51e",
   "metadata": {},
   "outputs": [
    {
     "name": "stdout",
     "output_type": "stream",
     "text": [
      "The slowest run took 6.42 times longer than the fastest. This could mean that an intermediate result is being cached.\n",
      "235 µs ± 124 µs per loop (mean ± std. dev. of 7 runs, 100,000 loops each)\n"
     ]
    }
   ],
   "source": [
    "%%timeit\n",
    "list1.insert(0, add_on)"
   ]
  },
  {
   "cell_type": "code",
   "execution_count": 70,
   "id": "be891867",
   "metadata": {},
   "outputs": [
    {
     "name": "stdout",
     "output_type": "stream",
     "text": [
      "The slowest run took 6.52 times longer than the fastest. This could mean that an intermediate result is being cached.\n",
      "238 µs ± 128 µs per loop (mean ± std. dev. of 7 runs, 100,000 loops each)\n"
     ]
    }
   ],
   "source": [
    "%%timeit\n",
    "list2.insert(0, add_on)"
   ]
  },
  {
   "cell_type": "markdown",
   "id": "836ad884",
   "metadata": {},
   "source": [
    "As observed above, the inserting operation is NOT UNIFORM for  both lists, the time for insertinging in list2 is greater than time for insering in list1 also length of list2 is twice the size of list1. This means, time for searching operation is dependent on length of the list. This is represented as O(n)."
   ]
  },
  {
   "cell_type": "code",
   "execution_count": 73,
   "id": "9a177a9e",
   "metadata": {},
   "outputs": [],
   "source": [
    "#4. Insertion at the end of the list "
   ]
  },
  {
   "cell_type": "code",
   "execution_count": 74,
   "id": "6a631ae0",
   "metadata": {},
   "outputs": [
    {
     "name": "stdout",
     "output_type": "stream",
     "text": [
      "57.3 ns ± 4.94 ns per loop (mean ± std. dev. of 7 runs, 10,000,000 loops each)\n"
     ]
    }
   ],
   "source": [
    "%%timeit\n",
    "list1.append(0)"
   ]
  },
  {
   "cell_type": "code",
   "execution_count": 75,
   "id": "741356db",
   "metadata": {},
   "outputs": [
    {
     "name": "stdout",
     "output_type": "stream",
     "text": [
      "55 ns ± 9.2 ns per loop (mean ± std. dev. of 7 runs, 10,000,000 loops each)\n"
     ]
    }
   ],
   "source": [
    "%%timeit\n",
    "list2.append(0)"
   ]
  },
  {
   "cell_type": "markdown",
   "id": "c4da1f1d",
   "metadata": {},
   "source": [
    "As observed above, the insertion at end of the list operation is nearly uniform for lists of unequal lenghts. This means, time for insertion at end of the list operation is independent of length of the list. This is because appending at the end of list does not require updating any of the indices of existing elements in the list. This is represented as O(1)"
   ]
  },
  {
   "cell_type": "code",
   "execution_count": 92,
   "id": "fd18a797",
   "metadata": {},
   "outputs": [
    {
     "name": "stdout",
     "output_type": "stream",
     "text": [
      "Length of list1 is 6.\n",
      "Length of list2 is 50.\n"
     ]
    }
   ],
   "source": [
    "#5 Deletion at the beginning of the list \n",
    "list1 = [i*2 for i in range(1,7)]\n",
    "list2 = [i*2 for i in range(1,51)]\n",
    "print(f'Length of list1 is {len(list1)}.\\nLength of list2 is {len(list2)}.')"
   ]
  },
  {
   "cell_type": "code",
   "execution_count": 93,
   "id": "2ecc4c4a",
   "metadata": {},
   "outputs": [
    {
     "name": "stdout",
     "output_type": "stream",
     "text": [
      "670 ns ± 60.3 ns per loop (mean ± std. dev. of 7 runs, 1,000,000 loops each)\n"
     ]
    }
   ],
   "source": [
    "%%timeit\n",
    "list1 = [i*2 for i in range(1,7)]\n",
    "list1.pop(0)"
   ]
  },
  {
   "cell_type": "code",
   "execution_count": 94,
   "id": "c982f937",
   "metadata": {},
   "outputs": [
    {
     "name": "stdout",
     "output_type": "stream",
     "text": [
      "2.12 µs ± 228 ns per loop (mean ± std. dev. of 7 runs, 100,000 loops each)\n"
     ]
    }
   ],
   "source": [
    "%%timeit\n",
    "list2 = [i*2 for i in range(1,51)]\n",
    "list2.pop(0)#pop is used to remove element at index 0"
   ]
  },
  {
   "cell_type": "markdown",
   "id": "76091e67",
   "metadata": {},
   "source": [
    "As observed above, the deleting operation at beginning of list is NOT UNIFORM for  both lists, the time for inserting in list2 is greater than time for insering in list1 also length of list2 is greater than list1. This means, time for deleting operation at beginning of list operation is dependent on length of the list as after poping an element, all list indices require \"shifting\". This time complexity is represented as O(n)."
   ]
  },
  {
   "cell_type": "code",
   "execution_count": 117,
   "id": "3331511b",
   "metadata": {},
   "outputs": [],
   "source": [
    "#6. Deletion at the end of the list "
   ]
  },
  {
   "cell_type": "code",
   "execution_count": 118,
   "id": "25808c3f",
   "metadata": {},
   "outputs": [
    {
     "name": "stdout",
     "output_type": "stream",
     "text": [
      "560 ns ± 52.8 ns per loop (mean ± std. dev. of 7 runs, 1,000,000 loops each)\n"
     ]
    }
   ],
   "source": [
    "%%timeit\n",
    "list1 = [i*2 for i in range(1,7)]\n",
    "list1.pop()"
   ]
  },
  {
   "cell_type": "code",
   "execution_count": 120,
   "id": "95ec31a0",
   "metadata": {},
   "outputs": [
    {
     "name": "stdout",
     "output_type": "stream",
     "text": [
      "763 ns ± 61.5 ns per loop (mean ± std. dev. of 7 runs, 1,000,000 loops each)\n"
     ]
    }
   ],
   "source": [
    "%%timeit\n",
    "list2 = [i*2 for i in range(1,14)]\n",
    "list2.pop()"
   ]
  },
  {
   "cell_type": "markdown",
   "id": "50fb6a58",
   "metadata": {},
   "source": [
    "As observed above, removing elements from the end of a list is a constant time operation and dos not dependend on the length of the list. This time complexity is represented as O(1)."
   ]
  },
  {
   "cell_type": "code",
   "execution_count": 121,
   "id": "2e7f56ff",
   "metadata": {},
   "outputs": [],
   "source": [
    "#7. Sorting the list"
   ]
  },
  {
   "cell_type": "code",
   "execution_count": 123,
   "id": "538fbc81",
   "metadata": {},
   "outputs": [
    {
     "name": "stdout",
     "output_type": "stream",
     "text": [
      "133 ns ± 3.53 ns per loop (mean ± std. dev. of 7 runs, 10,000,000 loops each)\n"
     ]
    }
   ],
   "source": [
    "%%timeit\n",
    "list1 = [10,50,14,22,34,21]\n",
    "list1.sort()"
   ]
  },
  {
   "cell_type": "code",
   "execution_count": 124,
   "id": "a4dba79b",
   "metadata": {},
   "outputs": [
    {
     "name": "stdout",
     "output_type": "stream",
     "text": [
      "259 ns ± 38.5 ns per loop (mean ± std. dev. of 7 runs, 1,000,000 loops each)\n"
     ]
    }
   ],
   "source": [
    "%%timeit\n",
    "list2 = [10,50,14,22,34,21,18,36,1,99,20,34]\n",
    "list2.sort()"
   ]
  },
  {
   "cell_type": "markdown",
   "id": "299f98ed",
   "metadata": {},
   "source": [
    "As observed above, sorting a list is NOT UNIFORM for  both lists, the time for inserting in list2 is greater than time for insering in list1 also length of list2 is greater than list1. This means, time for sorting operation is dependent on length of the list. This time complexity is represented as O(n * log(n)) as the time complexity varies in a non linear manner."
   ]
  },
  {
   "cell_type": "markdown",
   "id": "71a7bfd4",
   "metadata": {},
   "source": [
    "The summary of all time complexities analyzed above is as follows:\n",
    "    \n",
    "Reading: Average case time complexity: O(1)\n",
    "\n",
    "Searching for a value not contained within the list: Average case time complexity: O(n)\n",
    "\n",
    "Insertion at the beginning of the list: Average case time complexity: O(n)\n",
    "\n",
    "Insertion at the end of the list: Average case time complexity: O(1)\n",
    "\n",
    "Deletion at the beginning of the list: Average case time complexity: O(n)\n",
    "\n",
    "Deletion at the end of the list: Average case time complexity: O(1)\n",
    "\n",
    "Sorting the list: Average case time complexity: O(n log n)"
   ]
  },
  {
   "cell_type": "code",
   "execution_count": null,
   "id": "43411daa",
   "metadata": {},
   "outputs": [],
   "source": []
  },
  {
   "cell_type": "code",
   "execution_count": null,
   "id": "1c2b2ce6",
   "metadata": {},
   "outputs": [],
   "source": []
  },
  {
   "cell_type": "markdown",
   "id": "beae7211",
   "metadata": {},
   "source": [
    "## Q3) Why do you need to study different data structures? Why is a list not sufficient? Hint: Answer these questions by discussing operations you can perform on data structures.\n",
    "\n",
    "Ans: Different Data structures have different properties hence every data structure has its own way of operation. Selecting a suitable data structure as per our needs of a task/goal of the code is the best way to accomplish a task within agiven timeframe. This argument can be better understood with the example stated below:"
   ]
  },
  {
   "cell_type": "code",
   "execution_count": 51,
   "id": "62291a04",
   "metadata": {},
   "outputs": [],
   "source": [
    "# Supposethe task is to store the marks of 3 students in a class for easy retrival in 4 different subjects (each out of 100)\n",
    "class_marks=[['Alan', 80,85,80,95],['Alex',94,95,97,90],['Tyson',94,96,92,100]]\n",
    "class_marks_dict={'Alan':[80,85,80,95], 'Alex':[94,95,97,90],'Tyson':[94,96,92,100]}\n",
    "#Now we will explore search and summing operations for above 2 structures."
   ]
  },
  {
   "cell_type": "code",
   "execution_count": 48,
   "id": "a5652da3",
   "metadata": {},
   "outputs": [
    {
     "name": "stdout",
     "output_type": "stream",
     "text": [
      "30.9 ns ± 3.17 ns per loop (mean ± std. dev. of 7 runs, 10,000,000 loops each)\n"
     ]
    }
   ],
   "source": [
    "%%timeit\n",
    "class_marks_dict['Tyson']"
   ]
  },
  {
   "cell_type": "code",
   "execution_count": 50,
   "id": "dadf716f",
   "metadata": {},
   "outputs": [
    {
     "name": "stdout",
     "output_type": "stream",
     "text": [
      "25.5 ns ± 3.32 ns per loop (mean ± std. dev. of 7 runs, 10,000,000 loops each)\n"
     ]
    }
   ],
   "source": [
    "%%timeit\n",
    "class_marks[2]"
   ]
  },
  {
   "cell_type": "markdown",
   "id": "25f59235",
   "metadata": {},
   "source": [
    "In above code blocks, even though dictionary takes more time to run, dictionary provides an easier lookup for values and organised storing of data. If we tru to use  sum function in the nested list \"class_marks[2]\", we can run into errors!. A python Dictionary is a better solution to this problem. Hence it is important to use Data Structures as per requirement as one data structure alone cannot be efficient for all kinds of tasks."
   ]
  },
  {
   "cell_type": "markdown",
   "id": "a95feff5",
   "metadata": {},
   "source": [
    "## Q4) What is an algorithm?\n",
    "\n",
    "Ans: An algorithm is a set of instructions for completing a specifc task. Algorithms can be written in any programming Language. It is advisable to first write down an algorithm in the form of a pseudo code and the convert it to a programming language. This ensures that the simple logic behind an algorithm can be easily communicated to a wide audience before a programmer implements the algorithm in a known programming Language. Refer below for the example of a binary search algorithm coded in python language that is used to find search values in a large datset and converges to the answer in a less number of steps than a linear search."
   ]
  },
  {
   "cell_type": "code",
   "execution_count": 125,
   "id": "7071ada7",
   "metadata": {},
   "outputs": [],
   "source": [
    "#Binary Search\n",
    "\n",
    "def binary_search(lst, search_value):\n",
    "    step_count_bs=0\n",
    "    N = len(lst)\n",
    "    low_index = 0\n",
    "    high_index = N-1\n",
    "    while low_index <= high_index:\n",
    "        mid_index = (low_index + high_index) // 2\n",
    "\n",
    "        val_at_mid_index = lst[mid_index]\n",
    "        step_count_bs+=1\n",
    "        if search_value == val_at_mid_index:\n",
    "            print(f'Steps taken by binary search = {step_count_bs}')\n",
    "            return mid_index\n",
    "        elif search_value < val_at_mid_index:\n",
    "            high_index = mid_index - 1\n",
    "        else:\n",
    "            low_index = mid_index + 1\n",
    "    return False ## return -1"
   ]
  },
  {
   "cell_type": "code",
   "execution_count": 126,
   "id": "1ad62bab",
   "metadata": {},
   "outputs": [
    {
     "name": "stdout",
     "output_type": "stream",
     "text": [
      "Steps taken by binary search = 7\n"
     ]
    },
    {
     "data": {
      "text/plain": [
       "32"
      ]
     },
     "execution_count": 126,
     "metadata": {},
     "output_type": "execute_result"
    }
   ],
   "source": [
    "new_list = [i*3 for i in range(1,101)]\n",
    "binary_search(new_list, 99)"
   ]
  },
  {
   "cell_type": "markdown",
   "id": "52b71300",
   "metadata": {},
   "source": [
    "## Q5) Time complexity of algorithms is measured in terms of steps instead of pure time. Why is that?\n",
    "\n",
    "Ans: Pure time may not be an accurate measure of performance because, performance time can vary from one machine to another machine. As pure time varies across machines, we can use \"number of steps\" to compute the efficiency of an algorithm. Measuring the speed of an operation is known as time complexity analysis. But one factor we constantly want to measure is \"Number of steps relative to the size of input 'N'.\" This is known as Big O Notation: How many steps relative to N elements. This is also called:\n",
    "\n",
    "“Big Oh of N”\n",
    "\n",
    "“Order of N”\n",
    "\n",
    "“Oh of N”\n",
    "Using Big O Notation, we determine\"Number of steps taken by an algorithm for given N data elements.\"\n",
    "All complexity classes listed as going from least complexity to greatest complexity\n",
    "\n",
    "O(1) – Constant\n",
    "\n",
    "O(log N) – Logarithmic\n",
    "\n",
    "O(N) – Linear\n",
    "\n",
    "O(N log N) – N log N\n",
    "\n",
    "O(N^2) – Quadratic\n",
    "\n",
    "O(N^3) – Cubic\n",
    "\n",
    "O(2^N) – Exponential\n",
    "\n",
    "O(N!) – Factorial\n",
    "\n",
    "Some rules in writing Big O Notation are:\n",
    "\n",
    "a. Drop multiplicative constants because only N matters as N gets large and constants contribute less as N increases.\n",
    "\n",
    "b. Drop lower order terms\n",
    "\n",
    "Hence to sume it up, Measurement of Number of steps relative to input size is a better parameter than using pure time as a criteria for measurring performance of an algorithm"
   ]
  },
  {
   "cell_type": "code",
   "execution_count": null,
   "id": "c999fad7",
   "metadata": {},
   "outputs": [],
   "source": []
  },
  {
   "cell_type": "markdown",
   "id": "65fa2038",
   "metadata": {},
   "source": [
    "## Q6) We compared linear search to binary search. Which searching algorithm is better and why? Answer this answer by first talking about what binary search assumes and the cost of ensuring that assumption. Then compare how many steps it would take linear search to find an element vs binary search."
   ]
  },
  {
   "cell_type": "code",
   "execution_count": 111,
   "id": "cfc34687",
   "metadata": {},
   "outputs": [],
   "source": [
    "new_list = [i*3 for i in range(1,101)]"
   ]
  },
  {
   "cell_type": "code",
   "execution_count": 112,
   "id": "a987a02d",
   "metadata": {},
   "outputs": [],
   "source": [
    "#Linear Search \n",
    "\n",
    "def linear_search(lst, search_value):\n",
    "    step_count_ls=0\n",
    "    for idx, val in enumerate(lst):\n",
    "        step_count_ls+=1\n",
    "        if val == search_value:\n",
    "            print(f'Steps taken by linear search = {step_count_ls}')\n",
    "            return idx\n",
    "    return False ## return -1"
   ]
  },
  {
   "cell_type": "code",
   "execution_count": 113,
   "id": "8e80b1a8",
   "metadata": {},
   "outputs": [],
   "source": [
    "#Binary Search\n",
    "\n",
    "def binary_search(lst, search_value):\n",
    "    step_count_bs=0\n",
    "    N = len(lst)\n",
    "    low_index = 0\n",
    "    high_index = N-1\n",
    "    while low_index <= high_index:\n",
    "        mid_index = (low_index + high_index) // 2\n",
    "\n",
    "        val_at_mid_index = lst[mid_index]\n",
    "        step_count_bs+=1\n",
    "        if search_value == val_at_mid_index:\n",
    "            print(f'Steps taken by binary search = {step_count_bs}')\n",
    "            return mid_index\n",
    "        elif search_value < val_at_mid_index:\n",
    "            high_index = mid_index - 1\n",
    "        else:\n",
    "            low_index = mid_index + 1\n",
    "    return False ## return -1"
   ]
  },
  {
   "cell_type": "markdown",
   "id": "3219e831",
   "metadata": {},
   "source": [
    "In above searches the assumptions are:\n",
    "    \n",
    "Best case of Linear Search: The input to the function is a sorted list and the search_value is the first elemeant of the list.\n",
    "    \n",
    "Worst case of Linear Search: The input to the function is a sorted list and the search_value is the last elemeant of the list.\n",
    "\n",
    "Best case of Binary Search: Search_value is exactly at the middle of the list.\n",
    "\n",
    "Worst case of Binary search: Search_value is at the very first index or very last index."
   ]
  },
  {
   "cell_type": "code",
   "execution_count": 114,
   "id": "683ac82f",
   "metadata": {},
   "outputs": [
    {
     "name": "stdout",
     "output_type": "stream",
     "text": [
      "Steps taken by linear search = 33\n",
      "Steps taken by binary search = 7\n"
     ]
    },
    {
     "data": {
      "text/plain": [
       "32"
      ]
     },
     "execution_count": 114,
     "metadata": {},
     "output_type": "execute_result"
    }
   ],
   "source": [
    "#Running Best cases\n",
    "linear_search(new_list, 99)\n",
    "binary_search(new_list, 99)"
   ]
  },
  {
   "cell_type": "code",
   "execution_count": 116,
   "id": "a5a99190",
   "metadata": {},
   "outputs": [
    {
     "name": "stdout",
     "output_type": "stream",
     "text": [
      "Steps taken by linear search = 40\n",
      "Steps taken by binary search = 6\n"
     ]
    },
    {
     "data": {
      "text/plain": [
       "39"
      ]
     },
     "execution_count": 116,
     "metadata": {},
     "output_type": "execute_result"
    }
   ],
   "source": [
    "new_list2 = [i*5 for i in range(1,201)]\n",
    "#Running Best cases\n",
    "linear_search(new_list2, 200)\n",
    "binary_search(new_list2, 200)"
   ]
  },
  {
   "cell_type": "markdown",
   "id": "296b1bd1",
   "metadata": {},
   "source": [
    "As observed in above 2 examples, Binary search appears to be converging faster especially for large size of input. Hence we can conclude that Binary search is better than linear search especially when dealing with large size of Input."
   ]
  },
  {
   "cell_type": "code",
   "execution_count": null,
   "id": "ec54a893",
   "metadata": {},
   "outputs": [],
   "source": []
  },
  {
   "cell_type": "markdown",
   "id": "e7235352",
   "metadata": {},
   "source": [
    "## References:\n",
    "1) Class notes and Lectures\n",
    "2) https://en.wikipedia.org/wiki/Binary_search_algorithm\n",
    "3) https://wiki.python.org/moin/TimeComplexity"
   ]
  },
  {
   "cell_type": "code",
   "execution_count": null,
   "id": "c933e5e0",
   "metadata": {},
   "outputs": [],
   "source": []
  },
  {
   "cell_type": "code",
   "execution_count": null,
   "id": "2e2bb839",
   "metadata": {},
   "outputs": [],
   "source": []
  },
  {
   "cell_type": "code",
   "execution_count": null,
   "id": "f3d2c5b2",
   "metadata": {},
   "outputs": [],
   "source": []
  },
  {
   "cell_type": "code",
   "execution_count": null,
   "id": "0c80c499",
   "metadata": {},
   "outputs": [],
   "source": []
  }
 ],
 "metadata": {
  "kernelspec": {
   "display_name": "Python 3 (ipykernel)",
   "language": "python",
   "name": "python3"
  },
  "language_info": {
   "codemirror_mode": {
    "name": "ipython",
    "version": 3
   },
   "file_extension": ".py",
   "mimetype": "text/x-python",
   "name": "python",
   "nbconvert_exporter": "python",
   "pygments_lexer": "ipython3",
   "version": "3.11.3"
  }
 },
 "nbformat": 4,
 "nbformat_minor": 5
}
