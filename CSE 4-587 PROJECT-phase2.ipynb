{
 "cells": [
  {
   "attachments": {},
   "cell_type": "markdown",
   "id": "399a7a51",
   "metadata": {},
   "source": [
    "# CSE 4/587 PROJECT"
   ]
  },
  {
   "attachments": {},
   "cell_type": "markdown",
   "id": "18b9ac1d",
   "metadata": {},
   "source": [
    "## TITLE \n",
    "PREDICTING POWERLIFTING RESULTS"
   ]
  },
  {
   "attachments": {},
   "cell_type": "markdown",
   "id": "7d94b4fe",
   "metadata": {},
   "source": [
    "## PROBLEM STATEMENT\n",
    "Given the inputs of age, weight, and equiptment we will predict max powerlifting performance on the squat, bench, and deadlift.\n",
    "\n",
    "## BACKGROUND\n",
    "We have an interest in powerlifting due to our own enjoyment of fitness and lifting. Our question and problem came from us wondering how much we would have to lift at our age and bodyweight to be a competitive powerlifter. More specifically, which of our lifts are the furthest behind predicted and which are closer. This is a significant question/problem because it can take years of specialization on a lift to bring it up to par. Knowing for sure which lifts are lacking can help save years of suboptimal training.\n",
    "\n",
    "## POTENTIAL\n",
    "Our project can have a crucial contribution to the powerlifting domain for average lifters as well as current powerlifters. We beleive being able to predict powerlifting performance from age, weight, and equiptment would be beneficial to non powerlifters who want to see how close their own lifts are to being able to compete. This could help motivate non powerlifters to join the sport. We also beleive predicting performance could be of value to current powerlifters who want to see how they perform compared to others at their age, weight, and equiptment. Our project can help both groups to plan out their training by identifying lifts to focus/specialize on if they are lower than predicted. \n",
    "\n",
    "## DATASET\n",
    "Link: https://www.kaggle.com/datasets/open-powerlifting/powerlifting-database"
   ]
  },
  {
   "attachments": {},
   "cell_type": "markdown",
   "id": "0c806cfc",
   "metadata": {},
   "source": [
    "# 1) DATA CLEANING"
   ]
  },
  {
   "cell_type": "code",
   "execution_count": null,
   "id": "0c613647",
   "metadata": {},
   "outputs": [],
   "source": [
    "'''\n",
    "\n",
    "* Initially the csv file is viewed and it's features are understood. \n",
    "* Columns of importance are decided and a modified dataframe with columns of interest is created.\n",
    "* All rows containing NaN values are dropped. \n",
    "\n",
    "'''\n",
    "import pandas as pd\n",
    "df = pd.read_csv('openpowerlifting.csv', low_memory=False)\n",
    "\n",
    "# processing step-1\n",
    "'''\n",
    "Cleaning MeetCountry, MeetName, MeetState\n",
    "Type: String\n",
    "Step Description: Stripping a string\n",
    "'''\n",
    "country_list = df['MeetCountry'].to_list()\n",
    "country_mod = [i.strip() for i in country_list if type(i)==str]\n",
    "state_list = df['MeetState'].to_list()\n",
    "state_mod = [i.strip() for i in state_list if type(i)==str]\n",
    "name_list = df['MeetName'].to_list()\n",
    "name_mod = [i.strip() for i in name_list if type(i)==str]\n",
    "df['MeetCountry'] = pd.Series(name_mod)\n",
    "df['MeetState'] = pd.Series(state_mod)\n",
    "df['MeetName'] = pd.Series(name_mod)\n",
    "#print(df.info())\n",
    "'''\n",
    "Rounding floats to 2 decimal places in Age and BodyweightKg\n",
    "Type: Float\n",
    "Step Description: rounding to 2 decimal places\n",
    "'''\n",
    "age_list = df['Age'].to_list()\n",
    "age_mod = [round(i, 2) for i in age_list]\n",
    "BodyweightKg_list = df['BodyweightKg'].to_list()\n",
    "BodyweightKg_mod = [round(i, 3) for i in BodyweightKg_list]\n",
    "df['Age'] = pd.Series(age_mod)\n",
    "df['BodyweightKg'] = pd.Series(BodyweightKg_mod)\n",
    "df2 = df.drop(columns=['Squat4Kg', 'Bench4Kg', 'Deadlift4Kg'])\n",
    "# cleaning step-2\n",
    "df2 = df2.dropna()# cleaning step-2\n",
    "print(df.shape, df2.shape)\n",
    "'''\n",
    "here the columns: 'Squat4Kg', 'Bench4Kg', 'Deadlift4Kg' are dropped.\n",
    "It was observed that only 14 competitors are participating in all categories of powerlifting. \n",
    "Almost all powerlifting meets only have 3 attempts per lift. 4Kg is an unusual 4th attempt.\n",
    "\n",
    "'''\n",
    "df2# This modified datframe has 20271 rows and 34 columns\n",
    "print(df2.shape, df2.info())\n",
    "#people do not seem to be doing: 'Squat4Kg', 'Bench4Kg', 'Deadlift4Kg'\n",
    "# 4kg is a 4th a attempt and not typical "
   ]
  },
  {
   "cell_type": "code",
   "execution_count": null,
   "id": "2a9c1b73",
   "metadata": {},
   "outputs": [],
   "source": [
    "#processing step-3\n",
    "df3 = df2.drop(columns=['Squat1Kg', 'Squat2Kg', 'Squat3Kg'])\n",
    "#processing step-4\n",
    "df3 = df3.drop(columns=['Bench1Kg', 'Bench2Kg', 'Bench3Kg'])\n",
    "#processing step-5\n",
    "df3 = df3.drop(columns=['Deadlift1Kg', 'Deadlift2Kg', 'Deadlift3Kg'])\n",
    "# leaning step-6: The table is cleared of null entries\n",
    "df3 = df3.dropna()\n",
    "'''\n",
    "here the 1st, 2nd, and 3rd attempts for squat, bench, and deadlift are dropped.\n",
    "Attempts 1 and 2 are usually submaximal weights and dont represent total strength.\n",
    "We are interested in the max columns: Best3BenchKg, Best3SquatKg, Best3DeadliftKg\n",
    "\n",
    "'''\n",
    "df3\n",
    "# This modified datframe has 20271 rows and 26 columns\n",
    "print(df3.shape, df3.info())"
   ]
  },
  {
   "cell_type": "code",
   "execution_count": null,
   "id": "53d7dd8f",
   "metadata": {},
   "outputs": [],
   "source": [
    "df4 = df3.drop(columns=['Name', 'Country', 'Federation','Date','MeetCountry','MeetState','MeetName'])#cleaning step-6\n",
    "'''\n",
    "here the personal identifying info, date, and other non numerical lifting data are ignored\n",
    "We are only interested in factors that affect lifting performance\n",
    "\n",
    "'''\n",
    "df4\n",
    "# This modified datframe has 20271 rows and 19 columns\n",
    "print(df4.shape, df4.info())\n",
    "#SPLITTING DATA CATEGORICALLY\n",
    "df_categorical = df4.select_dtypes(include='object')\n",
    "df_not_categorical = df4.select_dtypes(exclude='object')\n",
    "df_categorical, df_not_categorical\n",
    "# REVERSING ORDER OF COLUMNS IN NON CATEGORICAL DATA SO THAT A POSSIBLE TARGET VALUE IPF PPOINTS APPEARS AS THE FIRST COLUMN\n",
    "# AND OTHER COLUMNS CAN BE POSSIBLE PREDICTORS - CLEANING STEP\n",
    "df_ipf_points = df_not_categorical.loc[:, ::-1]\n",
    "x, y = df_ipf_points.shape\n",
    "df_ipf_points.index = range(0, x, 1)\n",
    "df_ipf_points"
   ]
  },
  {
   "cell_type": "code",
   "execution_count": null,
   "id": "6f222348",
   "metadata": {},
   "outputs": [],
   "source": [
    "x, y = df_not_categorical.shape\n",
    "df_not_categorical.index = range(0, x, 1)\n",
    "df_not_categorical"
   ]
  },
  {
   "cell_type": "code",
   "execution_count": null,
   "id": "6a32674e",
   "metadata": {},
   "outputs": [],
   "source": [
    "x, y = df_categorical.shape\n",
    "df_categorical.index = range(0, x, 1)\n",
    "df_categorical"
   ]
  },
  {
   "cell_type": "code",
   "execution_count": null,
   "id": "a87eb990",
   "metadata": {},
   "outputs": [],
   "source": [
    "# Every event is SBD so the column is not needed\n",
    "df4[\"Event\"].value_counts()['SBD']"
   ]
  },
  {
   "cell_type": "code",
   "execution_count": null,
   "id": "448b740b",
   "metadata": {},
   "outputs": [],
   "source": [
    "# Every event is tested so not needed\n",
    "df4['Tested'].value_counts()"
   ]
  },
  {
   "cell_type": "code",
   "execution_count": null,
   "id": "c9fd46f2",
   "metadata": {},
   "outputs": [],
   "source": [
    "# Raw and single-ly make up the majority of lifters\n",
    "# Wraps and multi-ply give larger skewed numbers\n",
    "df4['Equipment'].value_counts()"
   ]
  },
  {
   "attachments": {},
   "cell_type": "markdown",
   "id": "d536eb24",
   "metadata": {},
   "source": [
    "## NEW CLEANING STEP:RENAMING COLUMN .'TotalKg' to 'Total_wt_lifted' to avoid the ambiguity of whose weight. (please delete after reading)."
   ]
  },
  {
   "cell_type": "code",
   "execution_count": null,
   "id": "5a0d4e2a",
   "metadata": {},
   "outputs": [],
   "source": [
    "#cleaning step-7: Every event is tested so not needed\n",
    "df5 = df4.drop(columns=['Event', 'Tested'])\n",
    "df5 = df5[~df5['Equipment'].isin(['Wraps', 'Multi-ply'])]\n",
    "# cleaning step-8: Drop Age class and weight class and division because we are interested in exacts not categories\n",
    "df5 = df5.drop(columns=['AgeClass','Division','WeightClassKg'])# \n",
    "# cleaning step-9: Dont need wilks, mcculloch, glossbrenner, or ipfpoints. only interested in exact totalkg\n",
    "df5 = df5.drop(columns=['Wilks','McCulloch','Glossbrenner','IPFPoints'])# \n",
    "#cleaning step-10: Place doesnt matter for prediction\n",
    "df5 = df5.drop(columns=['Place'])# "
   ]
  },
  {
   "cell_type": "code",
   "execution_count": null,
   "id": "054b1840",
   "metadata": {},
   "outputs": [],
   "source": [
    "# This modified datframe has 19603 rows and 8 columns\n",
    "print(df5.shape, df5.info())\n",
    "df5"
   ]
  },
  {
   "cell_type": "code",
   "execution_count": null,
   "id": "37bfc726",
   "metadata": {},
   "outputs": [],
   "source": [
    "# This modified datframe has 19603 rows and 8 columns\n",
    "print(df5.shape, df5.info())\n",
    "x, y = df5.shape\n",
    "df5.index = range(0, x, 1)#NEW CLEANING STEP: RESETIING INDICES IN DATAFRAME\n",
    "num_row = x\n",
    "row_index = [i for i in range(x)]\n",
    "df5.rename(columns = {'TotalKg':'Total_wt_lifted'}, inplace = True)#RENAMING COLUMNS\n",
    "df5"
   ]
  },
  {
   "cell_type": "code",
   "execution_count": null,
   "id": "62cb0b27",
   "metadata": {},
   "outputs": [],
   "source": [
    "df5.describe()"
   ]
  },
  {
   "cell_type": "code",
   "execution_count": null,
   "id": "6c1d0736",
   "metadata": {},
   "outputs": [],
   "source": [
    "# NORMALIZING AND MODE CALCULATION FOR DF5\n",
    "# Normalizing Non-Categorical Entries in above datframe.\n",
    "# Form of Normalizzation used is minimum-maximum normalization\n",
    "# In the below fuction we first normalize the data, select the mode of normalized values in each column and \n",
    "# reverse calculate to estimate the mode of each normalized column\n",
    "# This process is useful particularly in identifying the mode\n",
    "# (most frequently repeated observation) of each column in above datframe df5.\n",
    "def normalize_col(x,name):\n",
    "    nor_list=[]\n",
    "    x_list = x.to_list()\n",
    "    low=min(x_list)\n",
    "    high=max(x_list)\n",
    "    for i in x_list:\n",
    "        nor_list.append(round((i-low)/(high-low),2)) \n",
    "    nor_age = sorted(dict(pd.Series(nor_list).value_counts()).items(), key=lambda item:item[1], reverse=True)\n",
    "    nor_age_dict_sort = dict(nor_age)\n",
    "    #print(nor_age_dict_sort)\n",
    "    #Therefore reverse calculating to findout maximumage group\n",
    "    mode_ages=0\n",
    "    #print(list(nor_age_dict_sort.keys())[0])\n",
    "    mode_ages = round((list(nor_age_dict_sort.keys())[0]*(high-low))+low,1)\n",
    "    print(f'The mode for the {name} column is {mode_ages}')\n",
    "    return nor_list\n",
    "        \n",
    "df_age_normal=normalize_col(df5['Age'],'Age')\n",
    "df_bodywt_normal=normalize_col(df5['BodyweightKg'], 'BodyweightKg')\n",
    "df_squat_normal=normalize_col(df5['Best3SquatKg'], 'Best3SquatKg')\n",
    "df_bench_normal=normalize_col(df5['Best3BenchKg'], 'Best3BenchKg')\n",
    "df_lift_normal=normalize_col(df5['Best3DeadliftKg'], 'Best3DeadliftKg')\n",
    "df_total_normal=normalize_col(df5['Total_wt_lifted'], 'Total_wt_lifted')\n",
    "#print(type(df_age_normal), type(df_bodywt_normal), type(df_bench_normal), type(df_lift_normal), type(df_total_normal))\n"
   ]
  },
  {
   "cell_type": "code",
   "execution_count": null,
   "id": "4d49b8b2",
   "metadata": {},
   "outputs": [],
   "source": [
    "# Entries are normalized to findout the most densely populated attributes."
   ]
  },
  {
   "cell_type": "code",
   "execution_count": null,
   "id": "dc26b922",
   "metadata": {},
   "outputs": [],
   "source": [
    "import matplotlib.pyplot as plt\n",
    "import numpy as np"
   ]
  },
  {
   "cell_type": "code",
   "execution_count": null,
   "id": "442016e4",
   "metadata": {},
   "outputs": [],
   "source": [
    "# EDA to see TotalKg\n",
    "fig, ax = plt.subplots()\n",
    "ax.hist(df5[\"Total_wt_lifted\"], edgecolor=\"white\")\n",
    "plt.xlabel(\"TotalKgs\")\n",
    "plt.ylabel(\"Lifters\")\n",
    "plt.show()"
   ]
  },
  {
   "cell_type": "code",
   "execution_count": null,
   "id": "4990569d",
   "metadata": {},
   "outputs": [],
   "source": [
    "# EDA to see Bench\n",
    "fig, ax = plt.subplots()\n",
    "ax.hist(df5[\"Best3BenchKg\"], edgecolor=\"white\")\n",
    "plt.xlabel(\"BenchKgs\")\n",
    "plt.ylabel(\"Lifters\")\n",
    "plt.show()"
   ]
  },
  {
   "cell_type": "code",
   "execution_count": null,
   "id": "6803f1bd",
   "metadata": {},
   "outputs": [],
   "source": [
    "# EDA to see Squat\n",
    "fig, ax = plt.subplots()\n",
    "ax.hist(df5[\"Best3SquatKg\"], edgecolor=\"white\")\n",
    "plt.xlabel(\"SquatKgs\")\n",
    "plt.ylabel(\"Lifters\")\n",
    "plt.show()"
   ]
  },
  {
   "cell_type": "code",
   "execution_count": null,
   "id": "66689e4f",
   "metadata": {},
   "outputs": [],
   "source": [
    "# EDA to see Deadlift\n",
    "fig, ax = plt.subplots()\n",
    "ax.hist(df5[\"Best3DeadliftKg\"], edgecolor=\"white\")\n",
    "plt.xlabel(\"DeadliftKgs\")\n",
    "plt.ylabel(\"Lifters\")\n",
    "plt.show()"
   ]
  },
  {
   "cell_type": "code",
   "execution_count": null,
   "id": "8dc1a42d",
   "metadata": {},
   "outputs": [],
   "source": [
    "# EDA to see age vs total\n",
    "plt.plot(df5[\"Age\"],df5[\"Total_wt_lifted\"],'o')\n",
    "plt.xlabel(\"Ages\")\n",
    "plt.ylabel(\"TotalKgs\")\n",
    "plt.show()"
   ]
  },
  {
   "cell_type": "code",
   "execution_count": null,
   "id": "a0f00e75",
   "metadata": {},
   "outputs": [],
   "source": [
    "# EDA to see age vs bench\n",
    "plt.plot(df5[\"Age\"],df5[\"Best3BenchKg\"],'o')\n",
    "plt.xlabel(\"Ages\")\n",
    "plt.ylabel(\"BenchKgs\")\n",
    "plt.show()"
   ]
  },
  {
   "cell_type": "code",
   "execution_count": null,
   "id": "980706c1",
   "metadata": {},
   "outputs": [],
   "source": [
    "# EDA to see age vs squat\n",
    "plt.plot(df5[\"Age\"],df5[\"Best3SquatKg\"],'o')\n",
    "plt.xlabel(\"Ages\")\n",
    "plt.ylabel(\"SquatKgs\")\n",
    "plt.show()"
   ]
  },
  {
   "cell_type": "code",
   "execution_count": null,
   "id": "5430b4a6",
   "metadata": {},
   "outputs": [],
   "source": [
    "# EDA to see age vs deadlift\n",
    "plt.plot(df5[\"Age\"],df5[\"Best3DeadliftKg\"],'o')\n",
    "plt.xlabel(\"Ages\")\n",
    "plt.ylabel(\"DeadliftKgs\")\n",
    "plt.show()"
   ]
  },
  {
   "cell_type": "code",
   "execution_count": null,
   "id": "c9a6b78b",
   "metadata": {},
   "outputs": [],
   "source": [
    "# EDA to see weight vs total\n",
    "plt.plot(df5[\"BodyweightKg\"],df5[\"Total_wt_lifted\"],'o')\n",
    "plt.xlabel(\"BodyweightKgs\")\n",
    "plt.ylabel(\"TotalKgs\")\n",
    "plt.show()"
   ]
  },
  {
   "cell_type": "code",
   "execution_count": null,
   "id": "d8ef05e3",
   "metadata": {},
   "outputs": [],
   "source": [
    "# EDA to see weight vs bench\n",
    "plt.plot(df5[\"BodyweightKg\"],df5[\"Best3BenchKg\"],'o')\n",
    "plt.xlabel(\"BodyweightKgs\")\n",
    "plt.ylabel(\"BenchKgs\")\n",
    "plt.show()"
   ]
  },
  {
   "cell_type": "code",
   "execution_count": null,
   "id": "0be24a6c",
   "metadata": {},
   "outputs": [],
   "source": [
    "# EDA to see weight vs squat\n",
    "plt.plot(df5[\"BodyweightKg\"],df5[\"Best3SquatKg\"],'o')\n",
    "plt.xlabel(\"BodyweightKgs\")\n",
    "plt.ylabel(\"SquatKgs\")\n",
    "plt.show()"
   ]
  },
  {
   "cell_type": "code",
   "execution_count": null,
   "id": "53c9754f",
   "metadata": {},
   "outputs": [],
   "source": [
    "# EDA to see weight vs deadlift\n",
    "plt.plot(df5[\"BodyweightKg\"],df5[\"Best3DeadliftKg\"],'o')\n",
    "plt.xlabel(\"BodyweightKgs\")\n",
    "plt.ylabel(\"DeadliftKgs\")\n",
    "plt.show()"
   ]
  },
  {
   "cell_type": "code",
   "execution_count": null,
   "id": "5e995a8e",
   "metadata": {},
   "outputs": [],
   "source": [
    "raw = df5.loc[df5['Equipment'] == 'Raw']\n",
    "equiped = df5.loc[df5['Equipment'] == 'Single-ply']"
   ]
  },
  {
   "cell_type": "code",
   "execution_count": null,
   "id": "d796d7cd",
   "metadata": {},
   "outputs": [],
   "source": [
    "# EDA for raw vs equiped on totalkg\n",
    "plt.hist([raw[\"Total_wt_lifted\"], equiped[\"Total_wt_lifted\"]], label=['Raw', 'Single-ply'])\n",
    "plt.xlabel(\"TotalKgs\")\n",
    "plt.ylabel(\"Lifters\")\n",
    "plt.legend(loc='upper right')\n",
    "plt.show()"
   ]
  },
  {
   "cell_type": "code",
   "execution_count": null,
   "id": "7cdb6001",
   "metadata": {},
   "outputs": [],
   "source": [
    "# EDA for raw vs equiped on bench\n",
    "plt.hist([raw[\"Best3BenchKg\"], equiped[\"Best3BenchKg\"]], label=['Raw', 'Single-ply'])\n",
    "plt.xlabel(\"BenchKgs\")\n",
    "plt.ylabel(\"Lifters\")\n",
    "plt.legend(loc='upper right')\n",
    "plt.show()"
   ]
  },
  {
   "cell_type": "code",
   "execution_count": null,
   "id": "7cbb2353",
   "metadata": {},
   "outputs": [],
   "source": [
    "# EDA for raw vs equiped on squat\n",
    "plt.hist([raw[\"Best3SquatKg\"], equiped[\"Best3SquatKg\"]], label=['Raw', 'Single-ply'])\n",
    "plt.xlabel(\"SquatKgs\")\n",
    "plt.ylabel(\"Lifters\")\n",
    "plt.legend(loc='upper right')\n",
    "plt.show()"
   ]
  },
  {
   "cell_type": "code",
   "execution_count": null,
   "id": "ca07eccd",
   "metadata": {},
   "outputs": [],
   "source": [
    "# EDA for raw vs equiped on deadlift\n",
    "plt.hist([raw[\"Best3DeadliftKg\"], equiped[\"Best3DeadliftKg\"]], label=['Raw', 'Single-ply'])\n",
    "plt.xlabel(\"DeadliftKgs\")\n",
    "plt.ylabel(\"Lifters\")\n",
    "plt.legend(loc='upper right')\n",
    "plt.show()"
   ]
  },
  {
   "attachments": {},
   "cell_type": "markdown",
   "id": "e1b24aff",
   "metadata": {},
   "source": [
    "## FOLLOW QUESTIONS FROM EDA\n",
    "Why does the deadlift have a more normal/bell curve distrubution?\n",
    "Does being younger have higher potential?\n",
    "Which lift does age impact the most?\n",
    "Which lift does bodyweight impact the most?\n",
    "It seems like higher bodyweight has diminishing return after a point. What is that point?\n",
    "The squat seems to have the best linear relation to bodyweight. Deadlift the worst.\n",
    "Equiped lifters do much better on the squat and bench, but not the deadlift."
   ]
  },
  {
   "attachments": {},
   "cell_type": "markdown",
   "id": "38f49348",
   "metadata": {},
   "source": [
    "# PHASE-2: Machine Learning and Statistical Analysis"
   ]
  },
  {
   "cell_type": "code",
   "execution_count": null,
   "id": "67c95f78",
   "metadata": {},
   "outputs": [],
   "source": [
    "#Model-1: Using Linear Regression to predict Best3SquatKg, Best3BenchKg and Best3DeadliftKg. \n",
    "#From EDA analysis above we observed that, the quantities BodyWeightKg, Equipment"
   ]
  },
  {
   "cell_type": "code",
   "execution_count": null,
   "id": "c670b204",
   "metadata": {},
   "outputs": [],
   "source": [
    "df5"
   ]
  },
  {
   "cell_type": "code",
   "execution_count": null,
   "id": "1a587276",
   "metadata": {},
   "outputs": [],
   "source": [
    "#y = df5['response_variable']\n",
    "print(df5['Sex'].unique())\n",
    "print(df5['Equipment'].unique())\n",
    "from sklearn import preprocessing\n",
    "from sklearn.preprocessing import OneHotEncoder\n",
    "#encoder instance\n",
    "encoder = OneHotEncoder()\n",
    "encoder_cols = encoder.fit_transform(df5[['Sex']])\n",
    "gen_cat = {'Sex':{\"M\":1,\"F\":2}}\n",
    "equip_cat = {'Equipment':{\"Raw\":1,\"Single-ply\":2}}\n",
    "df5 = df5.replace(gen_cat)\n",
    "df5 = df5.replace(equip_cat)\n",
    "df5"
   ]
  },
  {
   "attachments": {},
   "cell_type": "markdown",
   "id": "3b69b853",
   "metadata": {},
   "source": [
    "### Best3SquatKg"
   ]
  },
  {
   "cell_type": "code",
   "execution_count": null,
   "id": "641b4af4",
   "metadata": {},
   "outputs": [],
   "source": [
    "from sklearn.linear_model import LinearRegression\n",
    "from sklearn.model_selection import train_test_split\n",
    "import sklearn.metrics as skm\n",
    "X = df5[['Sex','Equipment','Age','BodyweightKg','Total_wt_lifted']]\n",
    "y = df5['Best3SquatKg']\n",
    "model = LinearRegression()\n",
    "X1_train, X1_test, Y1_train, Y1_test = train_test_split(X, y,random_state=120, test_size=0.35, shuffle=True)\n",
    "result1 = model.fit(X1_train, Y1_train)\n",
    "#Train accuracy\n",
    "print('Train accuracy is',result1.score(X1_train, Y1_train))\n",
    "#Making predictions\n",
    "y1_pred = model.predict(X1_test)\n",
    "y1_train_pred=model.predict(X1_train)\n",
    "#mse value\n",
    "mse_ln = skm.mean_squared_error(Y1_test, y1_pred)\n",
    "#Test accuracy\n",
    "print('Test accuracy is', result1.score(X1_test,Y1_test))\n",
    "#mean absolute error calculation\n",
    "print('Mean absolute error is', skm.mean_absolute_error(Y1_test,y1_pred))\n",
    "print('Train MSE of linear Regression is', skm.mean_squared_error(Y1_train, y1_train_pred))\n",
    "print('Test MSE of linear regression is',mse_ln)\n",
    "new_diff=skm.mean_squared_error(Y1_train, y1_train_pred)-mse_ln"
   ]
  },
  {
   "cell_type": "code",
   "execution_count": null,
   "id": "0f10ac31",
   "metadata": {},
   "outputs": [],
   "source": [
    "x_list=[]\n",
    "#print(X1_test.shape)\n",
    "size_x=X1_test.shape[0]\n",
    "for i in range(size_x):\n",
    "    x_list.append(i+1)"
   ]
  },
  {
   "cell_type": "code",
   "execution_count": null,
   "id": "b5916acc",
   "metadata": {},
   "outputs": [],
   "source": [
    "fig=plt.figure(figsize=(100,100))\n",
    "plt.scatter(x_list,Y1_test,s=170)\n",
    "plt.scatter(x_list,y1_pred,s=170)\n",
    "print('The graph below represents overfitting.')\n",
    "plt.show()"
   ]
  },
  {
   "cell_type": "code",
   "execution_count": null,
   "id": "ca21c493",
   "metadata": {},
   "outputs": [],
   "source": [
    "from sklearn.linear_model import Ridge,Lasso\n",
    "X=X.drop(['Sex','Equipment','Age'],axis=1)# These columns have correlation values less than 0.5\n",
    "X2_train, X2_test, Y2_train, Y2_test = train_test_split(X, y,random_state=150, test_size=0.2, shuffle=True)\n",
    "alpha_vals=[0.01,0.1,0.7,1,10,100]\n",
    "dict_info={}\n",
    "count=0\n",
    "for i in alpha_vals:\n",
    "    count+=1\n",
    "    rid_model = Ridge(alpha=i)\n",
    "    rid_model.fit(X2_train, Y2_train)\n",
    "    y_rid_pred = rid_model.predict(X2_test)\n",
    "    mse_rid = skm.mean_squared_error(Y2_test, y_rid_pred)    \n",
    "    r2_rid = skm.r2_score(Y2_test, y_rid_pred)\n",
    "    y2_train_pred = rid_model.predict(X2_train)\n",
    "    train_mse = skm.mean_squared_error(Y2_train, y2_train_pred)\n",
    "    #mean absolute error calculation\n",
    "    #print(f'For the learning rate {i} the results are as follows:')\n",
    "    #print('Mean absolute error is', skm.mean_absolute_error(Y2_test,y_rid_pred))\n",
    "    #print(\"Test MSE of ridge regression is\", mse_rid)\n",
    "    #print(\"Train MSE of Ridge regression is\", train_mse)\n",
    "    #print('Train accuracy of Ridge Regression is', rid_model.score(X2_train,Y2_train))\n",
    "    #print(\"Test Accuracy of Ridge Regression is\", r2_rid)\n",
    "    dict_info['Trial'+str(count)]=[i, round(skm.mean_absolute_error(Y2_test,y_rid_pred),5), \n",
    "                                   round(skm.mean_squared_error(Y2_train, y2_train_pred),4),\n",
    "                                   round(mse_rid,4),\n",
    "                                   round(mse_rid,4)-round(skm.mean_squared_error(Y2_train, y2_train_pred),4),\n",
    "                                  round(rid_model.score(X2_train,Y2_train),4),\n",
    "                                  round(rid_model.score(X2_test,Y2_test),4)]    \n",
    "    #print('Prediction variance is:', skm.explained_variance_score(y2_train_pred,Y2_train))\n",
    "    #print('Test variance is:', skm.explained_variance_score(Y2_test,y_rid_pred))\n",
    "info_display= pd.DataFrame(dict_info)\n",
    "info_display.index = ['learning rate','MAE','Train MSE','Test MSE','diff of MSE','Train accuracy','Test Accuracy']\n",
    "print(' Following observations were made while predicting Best3SquatKg by applying Ridge Regression on different learning rates.')\n",
    "info_display"
   ]
  },
  {
   "cell_type": "code",
   "execution_count": null,
   "id": "c228b245",
   "metadata": {},
   "outputs": [],
   "source": [
    "comp_list=[new_diff for i in range(6)]\n",
    "x1_list=[i+1 for i in range(6)]\n",
    "fig,ax=plt.subplots()\n",
    "bar_width=0.4\n",
    "ax.bar(np.array(x1_list) - bar_width/2 , comp_list, bar_width, label='Linear MSE diff')\n",
    "ax.bar(np.array(x1_list) + bar_width/2, info_display.loc['diff of MSE'], bar_width, label='RIDGE MSE diff', alpha=0.5)\n",
    "ax.set_xlabel('Trial number')\n",
    "ax.set_ylabel('MSE difference')\n",
    "ax.set_title('Comparing MSEs for different learning rates in RIDGE Regression.')\n",
    "ax.legend()\n",
    "plt.show()\n",
    "#plt.scatter(x1_list, comp_list)\n",
    "#plt.scatter(x1_list, info_display.loc['diff of MSE'])\n",
    "#print('Below is the graph comparing differnce in MSE for linear regression with differnt learning rates of RIDGE Regression.')\n",
    "#plt.show()"
   ]
  },
  {
   "cell_type": "code",
   "execution_count": null,
   "id": "26de644c",
   "metadata": {},
   "outputs": [],
   "source": [
    "alpha_vals=[0.01,0.1,0.7,1,10,100]\n",
    "dict_info={}\n",
    "count=0\n",
    "for i in alpha_vals:\n",
    "    count+=1\n",
    "    lasso_model = Lasso(alpha=i)\n",
    "    lasso_model.fit(X2_train, Y2_train)\n",
    "    y_lasso_pred = lasso_model.predict(X2_test)\n",
    "    mse_lasso = skm.mean_squared_error(Y2_test, y_lasso_pred)\n",
    "    r2_lasso = skm.r2_score(Y2_test, y_lasso_pred)\n",
    "    y2_train_pred = lasso_model.predict(X2_train)\n",
    "    #mean absolute error calculation\n",
    "    #print(f'For the learning rate {i} the results are as follows:')\n",
    "    #print('Mean absolute error is', skm.mean_absolute_error(Y2_test,y_lasso_pred))\n",
    "    #print(\"Train MSE of Lasso regression is\", skm.mean_squared_error(Y2_train, y2_train_pred))\n",
    "    #print(\"Test MSE of Lasso regression is\", mse_lasso)\n",
    "    #print('Train accuracy of Laso Regression is', lasso_model.score(X2_train,Y2_train))\n",
    "    #print(\"Accuracy of Lasso Regression is\", r2_lasso)\n",
    "    dict_info['Trial'+str(count)]=[i, round(skm.mean_absolute_error(Y2_test,y_lasso_pred),5), \n",
    "                                   round(skm.mean_squared_error(Y2_train, y2_train_pred),4),\n",
    "                                   round(mse_lasso,4),\n",
    "                                   round(mse_lasso,4)-round(skm.mean_squared_error(Y2_train, y2_train_pred),4),\n",
    "                                  round(lasso_model.score(X2_train,Y2_train),4),\n",
    "                                  round(lasso_model.score(X2_test,Y2_test),4)]\n",
    "    #print('Prediction variance is:', skm.explained_variance_score(y2_train_pred,Y2_train))\n",
    "    #print('Test variance is:', skm.explained_variance_score(Y2_test,y_lasso_pred))\n",
    "info_display= pd.DataFrame(dict_info)\n",
    "info_display.index = ['learning rate','MAE','Train MSE','Test MSE','diff of MSE','Train accuracy','Test Accuracy']\n",
    "print('Following observations were made while predicting Best3SquatKg by applying Lasso Regression on different learning rates.')\n",
    "info_display"
   ]
  },
  {
   "cell_type": "code",
   "execution_count": null,
   "id": "fb3b8f03",
   "metadata": {},
   "outputs": [],
   "source": [
    "new_diff=round(mse_lasso,4)-round(skm.mean_squared_error(Y2_train, y2_train_pred),4)\n",
    "comp_list=[new_diff for i in range(6)]\n",
    "x1_list=[i+1 for i in range(6)]\n",
    "fig,ax=plt.subplots()\n",
    "bar_width=0.4\n",
    "ax.bar(np.array(x1_list) - bar_width/2 , comp_list, bar_width, label='Linear MSE diff')\n",
    "ax.bar(np.array(x1_list) + bar_width/2, info_display.loc['diff of MSE'], bar_width, label='RIDGE MSE diff', alpha=0.5)\n",
    "ax.set_xlabel('Trial number')\n",
    "ax.set_ylabel('MSE difference')\n",
    "ax.set_title('Comparing MSEs for different learning rates in LASSO Regression.')\n",
    "ax.legend()\n",
    "plt.show()\n",
    "#plt.scatter(x1_list, comp_list)\n",
    "#plt.scatter(x1_list, info_display.loc['diff of MSE'])\n",
    "#print('Below is the graph comparing differnce in MSE for linear regression with differnt learning rates of LASSO Regression.')\n",
    "#plt.show()"
   ]
  },
  {
   "cell_type": "code",
   "execution_count": null,
   "id": "54c87382",
   "metadata": {},
   "outputs": [],
   "source": []
  },
  {
   "attachments": {},
   "cell_type": "markdown",
   "id": "3fbc1d64",
   "metadata": {},
   "source": [
    "### Best3BenchKg"
   ]
  },
  {
   "cell_type": "code",
   "execution_count": null,
   "id": "172a2688",
   "metadata": {},
   "outputs": [],
   "source": [
    "#Bestbenchprediction\n",
    "from sklearn.linear_model import LinearRegression\n",
    "from sklearn.model_selection import train_test_split\n",
    "import sklearn.metrics as skm\n",
    "X = df5[['Sex','Equipment','Age','BodyweightKg','Total_wt_lifted']]\n",
    "y = df5['Best3BenchKg']\n",
    "model = LinearRegression()\n",
    "X1_train, X1_test, Y1_train, Y1_test = train_test_split(X, y,random_state=120, test_size=0.35, shuffle=True)\n",
    "result1 = model.fit(X1_train, Y1_train)\n",
    "#Train accuracy\n",
    "#print('Train accuracy(R^2 score) is',skm.r2_score(X1_train, Y1_train))\n",
    "#Making predictions\n",
    "y1_pred = model.predict(X1_test)\n",
    "y1_train_pred = model.predict(X1_train)\n",
    "#mse value\n",
    "mse_ln = skm.mean_squared_error(Y1_test, y1_pred)\n",
    "#Test MSE\n",
    "print('Train MSE of linear regression is', skm.mean_squared_error(Y2_train, y2_train_pred))\n",
    "print('Test MSE of linear regression is',mse_ln)\n",
    "#mean absolute error calculation\n",
    "print('Mean absolute error is', skm.mean_absolute_error(Y1_test,y1_pred))\n",
    "#Train accuracy\n",
    "print('Train accuracy is' ,model.score(X1_train, Y1_train))\n",
    "print('Test accuracy is', model.score(X1_test,Y1_test))\n",
    "#print('Prediction variance is:', skm.explained_variance_score(y1_train_pred,Y1_train))\n",
    "#print('Test variance is:', skm.explained_variance_score(Y1_test,y1_pred))\n",
    "new_diff=mse_ln-skm.mean_squared_error(Y2_train, y2_train_pred)"
   ]
  },
  {
   "cell_type": "code",
   "execution_count": null,
   "id": "1ee799dd",
   "metadata": {},
   "outputs": [],
   "source": [
    "corr_list=list(sorted(df5.corr()['Best3BenchKg'].to_list()))\n",
    "corr_list"
   ]
  },
  {
   "cell_type": "code",
   "execution_count": null,
   "id": "d60dd124",
   "metadata": {},
   "outputs": [],
   "source": [
    "\n",
    "fig=plt.figure(figsize=(100,100))\n",
    "plt.scatter(x_list,Y1_test,s=170)\n",
    "plt.scatter(x_list,y1_pred,s=170)\n",
    "print('The graph below represents overfitting.')\n",
    "plt.show()"
   ]
  },
  {
   "cell_type": "code",
   "execution_count": null,
   "id": "d88e5e33",
   "metadata": {},
   "outputs": [],
   "source": [
    "from sklearn.linear_model import Ridge,Lasso\n",
    "X=X.drop(['Sex','Equipment'],axis=1)# These columns have correlation values less than 0.5\n",
    "X2_train, X2_test, Y2_train, Y2_test = train_test_split(X, y,random_state=150, test_size=0.35, shuffle=True)\n",
    "alpha_vals=[0.0001,0.1,0.7,1,10,100]\n",
    "dict_info={}\n",
    "count=0\n",
    "for i in alpha_vals:\n",
    "    count+=1\n",
    "    rid_model = Ridge(alpha=i)\n",
    "    rid_model.fit(X2_train, Y2_train)\n",
    "    y_rid_pred = rid_model.predict(X2_test)\n",
    "    mse_rid = skm.mean_squared_error(Y2_test, y_rid_pred)\n",
    "    r2_rid = skm.r2_score(Y2_test, y_rid_pred)\n",
    "    #mean absolute error calculation\n",
    "    y2_train_pred = rid_model.predict(X2_train)\n",
    "    #print(f'For the learning rate {i} the results are as follows:')\n",
    "    #print('Mean absolute error is', skm.mean_absolute_error(Y2_test,y_rid_pred))\n",
    "    #print(\"Train MSE of ridge regression is\", skm.mean_squared_error(Y2_train, y2_train_pred))\n",
    "    #print(\"Test MSE of ridge regression is\", mse_rid)\n",
    "    #print(\"Train Accuracy of Ridge Regression is\", rid_model.score(X2_train,Y2_train))\n",
    "    #print(\"Test Accuracy of Ridge Regression is\", rid_model.score(X2_test,Y2_test))\n",
    "    dict_info['Trial'+str(count)]=[i, round(skm.mean_absolute_error(Y2_test,y_rid_pred),5), \n",
    "                                   round(skm.mean_squared_error(Y2_train, y2_train_pred),4),\n",
    "                                   round(mse_rid,4),round(mse_rid,4)-round(skm.mean_squared_error(Y2_train, y2_train_pred),4),\n",
    "                                  round(rid_model.score(X2_train,Y2_train),4),\n",
    "                                  round(rid_model.score(X2_test,Y2_test),4)]\n",
    "    #print('Prediction variance is:', skm.explained_variance_score(y2_train_pred,Y2_train))\n",
    "    #print('Test variance is:', skm.explained_variance_score(Y2_test,y_rid_pred))\n",
    "info_display= pd.DataFrame(dict_info)\n",
    "print(' Following observations were made while predicting Best3BenchKg by applying Ridge Regression on different learning rates.')\n",
    "info_display.index = ['learning rate','MAE','Train MSE','Test MSE','diff of MSE','Train accuracy','Test Accuracy']\n",
    "\n",
    "\n",
    "info_display"
   ]
  },
  {
   "cell_type": "code",
   "execution_count": null,
   "id": "eddc4066",
   "metadata": {},
   "outputs": [],
   "source": [
    "comp_list=[new_diff for i in range(6)]\n",
    "x1_list=[i+1 for i in range(6)]\n",
    "fig,ax=plt.subplots()\n",
    "bar_width=0.4\n",
    "ax.bar(np.array(x1_list) - bar_width/2 , comp_list, bar_width, label='Linear MSE diff')\n",
    "ax.bar(np.array(x1_list) + bar_width/2, info_display.loc['diff of MSE'], bar_width, label='RIDGE MSE diff', alpha=0.5)\n",
    "ax.set_xlabel('Trial number')\n",
    "ax.set_ylabel('MSE difference')\n",
    "ax.set_title('Comparing MSEs for different learning rates in RIDGE Regression.')\n",
    "ax.legend()\n",
    "plt.show()\n",
    "#plt.scatter(x1_list, comp_list)\n",
    "#plt.scatter(x1_list, info_display.loc['diff of MSE'])\n",
    "#print('Below is the graph comparing differnce in MSE for linear regression with differnt learning rates of LASSO Regression.')\n",
    "#plt.show()"
   ]
  },
  {
   "cell_type": "code",
   "execution_count": null,
   "id": "0164c846",
   "metadata": {},
   "outputs": [],
   "source": [
    "alpha_vals=[0.01,0.1,0.7,1,10,100]\n",
    "dict_info={}\n",
    "count=0\n",
    "for i in alpha_vals:\n",
    "    count+=1\n",
    "    lasso_model = Lasso(alpha=i)\n",
    "    lasso_model.fit(X2_train, Y2_train)\n",
    "    y_lasso_pred = lasso_model.predict(X2_test)\n",
    "    mse_lasso = skm.mean_squared_error(Y2_test, y_lasso_pred)\n",
    "    r2_lasso = skm.r2_score(Y2_test, y_lasso_pred)\n",
    "    y2_train_pred = lasso_model.predict(X2_train)\n",
    "    #mean absolute error calculation\n",
    "    #print(f'For the learning rate {i} the results are as follows:')\n",
    "    #print('Mean absolute error is', skm.mean_absolute_error(Y2_test,y_lasso_pred))\n",
    "    #print(\"Train MSE of Lasso regression is\", skm.mean_squared_error(Y2_train, y2_train_pred))\n",
    "    #print(\"Test MSE of Lasso regression is\", mse_lasso)\n",
    "    #print('Train accuracy of Laso Regression is', lasso_model.score(X2_train,Y2_train))\n",
    "    #print(\"Accuracy of Lasso Regression is\", r2_lasso)\n",
    "    dict_info['Trial'+str(count)]=[i, round(skm.mean_absolute_error(Y2_test,y_lasso_pred),5), \n",
    "                                   round(skm.mean_squared_error(Y2_train, y2_train_pred),4),\n",
    "                                   round(mse_lasso,4),\n",
    "                                   round(mse_lasso,4)-round(skm.mean_squared_error(Y2_train, y2_train_pred),4),\n",
    "                                  round(lasso_model.score(X2_train,Y2_train),4),\n",
    "                                  round(lasso_model.score(X2_test,Y2_test),4)]\n",
    "    #print('Prediction variance is:', skm.explained_variance_score(y2_train_pred,Y2_train))\n",
    "    #print('Test variance is:', skm.explained_variance_score(Y2_test,y_lasso_pred))\n",
    "info_display= pd.DataFrame(dict_info)\n",
    "info_display.index = ['learning rate','MAE','Train MSE','Test MSE','diff of MSE','Train accuracy','Test Accuracy']\n",
    "print('Following observations were made while predicting Best3BenchKg by applying Lasso Regression on different learning rates.')\n",
    "info_display"
   ]
  },
  {
   "cell_type": "code",
   "execution_count": null,
   "id": "e402582a",
   "metadata": {},
   "outputs": [],
   "source": [
    "comp_list=[new_diff for i in range(6)]\n",
    "x1_list=[i+1 for i in range(6)]\n",
    "fig,ax=plt.subplots()\n",
    "bar_width=0.4\n",
    "ax.bar(np.array(x1_list) - bar_width/2 , comp_list, bar_width, label='Linear MSE diff')\n",
    "ax.bar(np.array(x1_list) + bar_width/2, info_display.loc['diff of MSE'], bar_width, label='RIDGE MSE diff', alpha=0.5)\n",
    "ax.set_xlabel('Trial number')\n",
    "ax.set_ylabel('MSE difference')\n",
    "ax.set_title('Comparing MSEs for different learning rates in RIDGE Regression.')\n",
    "ax.legend()\n",
    "plt.show()\n",
    "#plt.scatter(x1_list, comp_list)\n",
    "#plt.scatter(x1_list, info_display.loc['diff of MSE'])\n",
    "#print('Below is the graph comparing differnce in MSE for linear regression with differnt learning rates of LASSO Regression.')\n",
    "#plt.show()"
   ]
  },
  {
   "cell_type": "code",
   "execution_count": null,
   "id": "31266ba0",
   "metadata": {},
   "outputs": [],
   "source": []
  },
  {
   "cell_type": "code",
   "execution_count": null,
   "id": "d68ca004",
   "metadata": {},
   "outputs": [],
   "source": []
  },
  {
   "cell_type": "code",
   "execution_count": null,
   "id": "5aa969ae",
   "metadata": {},
   "outputs": [],
   "source": []
  },
  {
   "cell_type": "code",
   "execution_count": null,
   "id": "e5c4b4bd",
   "metadata": {},
   "outputs": [],
   "source": []
  },
  {
   "attachments": {},
   "cell_type": "markdown",
   "id": "508c6d7e",
   "metadata": {},
   "source": [
    "### Best3DeadliftKg"
   ]
  },
  {
   "cell_type": "code",
   "execution_count": null,
   "id": "8129d584",
   "metadata": {},
   "outputs": [],
   "source": [
    "from sklearn.linear_model import LinearRegression\n",
    "from sklearn.model_selection import train_test_split\n",
    "import sklearn.metrics as skm\n",
    "X = df5[['Sex','Equipment','Age','BodyweightKg','Total_wt_lifted']]\n",
    "y = df5['Best3DeadliftKg']\n",
    "model = LinearRegression()\n",
    "X1_train, X1_test, Y1_train, Y1_test = train_test_split(X, y,random_state=120, test_size=0.35, shuffle=True)\n",
    "result1 = model.fit(X1_train, Y1_train)\n",
    "#Train accuracy\n",
    "#print('Train accuracy(R^2 score) is',skm.r2_score(X1_train, Y1_train))\n",
    "#Making predictions\n",
    "y1_pred = model.predict(X1_test)\n",
    "y1_train_pred = model.predict(X1_train)\n",
    "#mse value\n",
    "mse_ln = skm.mean_squared_error(Y1_test, y1_pred)\n",
    "#Test accuracy\n",
    "train_mse = skm.mean_squared_error(Y1_train, y1_train_pred)\n",
    "print('Train MSE of linar regression is', train_mse)\n",
    "print('Test MSE of linear regression is',mse_ln)\n",
    "#mean absolute error calculation\n",
    "print('Mean absolute error is', skm.mean_absolute_error(Y1_test,y1_pred))\n",
    "print('Train accuracy is',model.score(X1_train,Y1_train))\n",
    "print('Test accuracy is',model.score(X1_test,Y1_test))\n",
    "#print('Prediction variance is:', skm.explained_variance_score(y1_train_pred,Y1_train))\n",
    "#print('Test variance is:', skm.explained_variance_score(Y1_test,y1_pred))\n",
    "new_diff=mse_ln-train_mse"
   ]
  },
  {
   "cell_type": "code",
   "execution_count": null,
   "id": "16b603f7",
   "metadata": {},
   "outputs": [],
   "source": [
    "fig=plt.figure(figsize=(100,100))\n",
    "plt.scatter(x_list,Y1_test,s=170)\n",
    "plt.scatter(x_list,y1_pred,s=170)\n",
    "print('The graph below represents overfitting.')\n",
    "plt.show()"
   ]
  },
  {
   "cell_type": "code",
   "execution_count": null,
   "id": "f846d43d",
   "metadata": {},
   "outputs": [],
   "source": [
    "from sklearn.linear_model import Ridge,Lasso\n",
    "X=X.drop(['Sex','Equipment','Age'],axis=1)# These columns have correlation values less than 0.5\n",
    "X2_train, X2_test, Y2_train, Y2_test = train_test_split(X, y,random_state=150, test_size=0.2, shuffle=True)\n",
    "alpha_vals=[0.01,0.1,0.7,1,10,100]\n",
    "dict_info={}\n",
    "count=0\n",
    "for i in alpha_vals:\n",
    "    count+=1\n",
    "    rid_model = Ridge(alpha=i)\n",
    "    rid_model.fit(X2_train, Y2_train)\n",
    "    y_rid_pred = rid_model.predict(X2_test)\n",
    "    mse_rid = skm.mean_squared_error(Y2_test, y_rid_pred)    \n",
    "    r2_rid = skm.r2_score(Y2_test, y_rid_pred)\n",
    "    y2_train_pred = rid_model.predict(X2_train)\n",
    "    train_mse = skm.mean_squared_error(Y2_train, y2_train_pred)\n",
    "    #mean absolute error calculation\n",
    "    #print(f'For the learning rate {i} the results are as follows:')\n",
    "    #print('Mean absolute error is', skm.mean_absolute_error(Y2_test,y_rid_pred))\n",
    "    #print(\"Test MSE of ridge regression is\", mse_rid)\n",
    "    #print(\"Train MSE of Ridge regression is\", train_mse)\n",
    "    #print('Train accuracy of Ridge Regression is', rid_model.score(X2_train,Y2_train))\n",
    "    #print(\"Test Accuracy of Ridge Regression is\", r2_rid)\n",
    "    dict_info['Trial'+str(count)]=[i, round(skm.mean_absolute_error(Y2_test,y_rid_pred),5), \n",
    "                                   round(skm.mean_squared_error(Y2_train, y2_train_pred),4),\n",
    "                                   round(mse_rid,4),\n",
    "                                  round(mse_rid,4)-round(skm.mean_squared_error(Y2_train, y2_train_pred),4),\n",
    "                                  round(rid_model.score(X2_train,Y2_train),4),\n",
    "                                  round(rid_model.score(X2_test,Y2_test),4)]    \n",
    "    #print('Prediction variance is:', skm.explained_variance_score(y2_train_pred,Y2_train))\n",
    "    #print('Test variance is:', skm.explained_variance_score(Y2_test,y_rid_pred))\n",
    "info_display= pd.DataFrame(dict_info)\n",
    "info_display.index = ['learning rate','MAE','Train MSE','Test MSE','diff of MSE','Train accuracy','Test Accuracy']\n",
    "print(' Following observations were made while predicting Best3DeadliftKg by applying Ridge Regression on different learning rates.')\n",
    "info_display"
   ]
  },
  {
   "cell_type": "code",
   "execution_count": null,
   "id": "131ab4ab",
   "metadata": {},
   "outputs": [],
   "source": [
    "comp_list=[new_diff for i in range(6)]\n",
    "x1_list=[i+1 for i in range(6)]\n",
    "fig,ax=plt.subplots()\n",
    "bar_width=0.4\n",
    "ax.bar(np.array(x1_list) - bar_width/2 , comp_list, bar_width, label='Linear MSE diff')\n",
    "ax.bar(np.array(x1_list) + bar_width/2, info_display.loc['diff of MSE'], bar_width, label='RIDGE MSE diff', alpha=0.5)\n",
    "ax.set_xlabel('Trial number')\n",
    "ax.set_ylabel('MSE difference')\n",
    "ax.set_title('Comparing MSEs for different learning rates in RIDGE Regression.')\n",
    "ax.legend()\n",
    "plt.show()\n",
    "#plt.scatter(x1_list, comp_list)\n",
    "#plt.scatter(x1_list, info_display.loc['diff of MSE'])\n",
    "#print('Below is the graph comparing differnce in MSE for linear regression with differnt learning rates of LASSO Regression.')\n",
    "#plt.show()"
   ]
  },
  {
   "cell_type": "code",
   "execution_count": null,
   "id": "a1630e59",
   "metadata": {},
   "outputs": [],
   "source": [
    "alpha_vals=[0.01,0.1,0.7,1,10,100]\n",
    "dict_info={}\n",
    "count=0\n",
    "x_list=[]\n",
    "#print(X1_test.shape)\n",
    "size_x=X2_test.shape[0]\n",
    "for i in range(size_x):\n",
    "    x_list.append(i+1)\n",
    "for i in alpha_vals:\n",
    "    count+=1\n",
    "    lasso_model = Lasso(alpha=i)\n",
    "    lasso_model.fit(X2_train, Y2_train)\n",
    "    y_lasso_pred = lasso_model.predict(X2_test)\n",
    "    mse_lasso = skm.mean_squared_error(Y2_test, y_lasso_pred)\n",
    "    r2_lasso = skm.r2_score(Y2_test, y_lasso_pred)\n",
    "    y2_train_pred = lasso_model.predict(X2_train)\n",
    "    train_mse = skm.mean_squared_error(Y2_train, y2_train_pred)\n",
    "    if i==0.01:\n",
    "        fig=plt.figure(figsize=(100,100))\n",
    "        plt.scatter(x_list, y_lasso_pred,s=170)\n",
    "        plt.scatter(x_list, Y2_test,s=170)\n",
    "        print('The graph below represents reduced overfitting.')\n",
    "        plt.show()\n",
    "    #mean absolute error calculation\n",
    "    #print(f'For the learning rate {i} the results are as follows:')\n",
    "    #print('Mean absolute error is', skm.mean_absolute_error(Y2_test,y_lasso_pred))\n",
    "    #print(\"Test MSE of ridge regression is\", mse_lasso)\n",
    "    #print(\"Train MSE of ridge regression is\", train_mse)    \n",
    "    #print('Train accuracy of Ridge Regression is', lasso_model.score(X2_train,Y2_train))\n",
    "    #print(\"Test Accuracy of Ridge Regression is\", r2_lasso)\n",
    "    #print('Prediction variance is:', skm.explained_variance_score(y2_train_pred,Y2_train))\n",
    "    #print('Test variance is:', skm.explained_variance_score(Y2_test,y_lasso_pred))\n",
    "    dict_info['Trial'+str(count)]=[i, round(skm.mean_absolute_error(Y2_test,y_lasso_pred),5), \n",
    "                                   round(skm.mean_squared_error(Y2_train, y2_train_pred),4),\n",
    "                                   round(mse_lasso,4),\n",
    "                                   round(mse_lasso,4)-round(skm.mean_squared_error(Y2_train, y2_train_pred),4),\n",
    "                                  round(lasso_model.score(X2_train,Y2_train),4),\n",
    "                                  round(lasso_model.score(X2_test,Y2_test),4)]\n",
    "info_display= pd.DataFrame(dict_info)\n",
    "info_display.index = ['learning rate','MAE','Train MSE','Test MSE','diff of MSE','Train accuracy','Test Accuracy']\n",
    "print('Following observations were made while predicting Best3DeadliftKg by applying Lasso Regression on different learning rates.')\n",
    "info_display"
   ]
  },
  {
   "cell_type": "code",
   "execution_count": null,
   "id": "fa948d94",
   "metadata": {},
   "outputs": [],
   "source": [
    "comp_list=[new_diff for i in range(6)]\n",
    "x1_list=[i+1 for i in range(6)]\n",
    "fig,ax=plt.subplots()\n",
    "bar_width=0.4\n",
    "ax.bar(np.array(x1_list) - bar_width/2 , comp_list, bar_width, label='Linear MSE diff')\n",
    "ax.bar(np.array(x1_list) + bar_width/2, info_display.loc['diff of MSE'], bar_width, label='LASSO MSE diff', alpha=0.5)\n",
    "ax.set_xlabel('Trial number')\n",
    "ax.set_ylabel('MSE difference')\n",
    "ax.set_title('Comparing MSEs for different learning rates in RIDGE Regression.')\n",
    "ax.legend()\n",
    "plt.show()\n",
    "#plt.scatter(x1_list, comp_list)\n",
    "#plt.scatter(x1_list, info_display.loc['diff of MSE'])\n",
    "#print('Below is the graph comparing differnce in MSE for linear regression with differnt learning rates of LASSO Regression.')\n",
    "#plt.show()"
   ]
  },
  {
   "cell_type": "code",
   "execution_count": null,
   "id": "7cb29639",
   "metadata": {},
   "outputs": [],
   "source": []
  },
  {
   "cell_type": "code",
   "execution_count": null,
   "id": "bcc6e071",
   "metadata": {},
   "outputs": [],
   "source": [
    "# Summary: Starting with a a simple linear regression, using the parameters:\n",
    "#'Sex','Equipment','Age','BodyweightKg','Total_wt_lifted' to predict  BestSquat3Kg, BestBench3Kg,and BestDeadLift3Kg. \n",
    "# As per the EDA we observed that the pairs (Age, BestBench3Kg), (Age, BestSquat3Kg) and (Age, BestDeadLift3Kg) were displaying\n",
    "# proportional increse with respect to each other in the scatter plots.\n",
    "# Also TotalWt. Lifted showed directly proportional variance with respect to BestBench3Kg, BestSquat3Kg and BestDeadLift3Kg.\n",
    "# Hence we deided to include these parameters  when making predictions.\n",
    "# After performing Linear Regression we got very good test accuracies of 97.7%, 95.5% and 92.1% respectively while making\n",
    "# coresponding predictions in BestSquat3Kg, BestBench3Kg,and BestDeadLift3Kg.\n",
    "# But the point of worry is the large differences between testing and training MSE values. This indicates that,\n",
    "# Though model fits well on training data, it may run into problems on unseen data.\n",
    "# This could become problematic on new unseen input which might produce a data product of poor quality.\n",
    "# Hence to optimize the reult of the Linear regression and avoid overfitting, We used Ridge and lasso Regression models.\n",
    "# Also it was observed that columns'Sex' and 'Equipment' had correlation values less than zero!\n",
    "# Hence these columns were dropped before proceeding with further Analysis.\n",
    "# After applying Ridge and Lasso Regressions we observed that difference in train and test MSE has dropped signifficantly with\n",
    "# a minute decrease in the score of the model. this is due to bias-variance trade off.\n",
    "# This indicates that problem of overfitting has now been resolved in our model.\n",
    "# At the expense of a small test score we now have a reasonable test and train MSE.\n",
    "# This ensures that our model is inclusive on unseen data."
   ]
  },
  {
   "cell_type": "code",
   "execution_count": null,
   "id": "fddf300f",
   "metadata": {},
   "outputs": [],
   "source": [
    "from sklearn.neighbors import KNeighborsClassifier\n",
    "import seaborn as sns"
   ]
  },
  {
   "cell_type": "code",
   "execution_count": null,
   "id": "fbd42af3",
   "metadata": {},
   "outputs": [],
   "source": [
    "sns.scatterplot(x=df5['BodyweightKg'],y=df5['Age'], hue=df5['Total_wt_lifted'])"
   ]
  },
  {
   "cell_type": "code",
   "execution_count": null,
   "id": "c4bc73b7",
   "metadata": {},
   "outputs": [],
   "source": [
    "sns.scatterplot(x=df5.loc[(df5['Sex'] == 1)&(df5[\"Equipment\"] == 1)]['BodyweightKg'],y=df5.loc[(df5['Sex'] == 1)&(df5[\"Equipment\"] == 1)]['Best3SquatKg'], hue=df5.loc[(df5['Sex'] == 1)&(df5[\"Equipment\"] == 1)]['Total_wt_lifted'])"
   ]
  },
  {
   "cell_type": "code",
   "execution_count": null,
   "id": "bf32d51f",
   "metadata": {},
   "outputs": [],
   "source": [
    "sns.scatterplot(x=df5.loc[(df5['Sex'] == 1)&(df5[\"Equipment\"] == 1)]['BodyweightKg'],y=df5.loc[(df5['Sex'] == 1)&(df5[\"Equipment\"] == 1)]['Best3BenchKg'], hue=df5.loc[(df5['Sex'] == 1)&(df5[\"Equipment\"] == 1)]['Total_wt_lifted'])"
   ]
  },
  {
   "cell_type": "code",
   "execution_count": null,
   "id": "67120f6a",
   "metadata": {},
   "outputs": [],
   "source": [
    "sns.scatterplot(x=df5.loc[(df5['Sex'] == 1)&(df5[\"Equipment\"] == 1)]['BodyweightKg'],y=df5.loc[(df5['Sex'] == 1)&(df5[\"Equipment\"] == 1)]['Best3DeadliftKg'], hue=df5.loc[(df5['Sex'] == 1)&(df5[\"Equipment\"] == 1)]['Total_wt_lifted'])"
   ]
  },
  {
   "cell_type": "code",
   "execution_count": null,
   "id": "0de1f9ed",
   "metadata": {},
   "outputs": [],
   "source": [
    "# Create the model comparing bodyweight and age to their resulting total lifts rounded to the 100s\n",
    "knn = KNeighborsClassifier(n_neighbors=100)\n",
    "X2 = df5[[\"BodyweightKg\",\"Age\"]]\n",
    "y2 = df5[\"Total_wt_lifted\"].round(-2)\n",
    "X3_train, X3_test, Y3_train, Y3_test = train_test_split(X2, y2,random_state=150, test_size=0.25, shuffle=True)"
   ]
  },
  {
   "cell_type": "code",
   "execution_count": null,
   "id": "cfaacce3",
   "metadata": {},
   "outputs": [],
   "source": [
    "knn.fit(X3_train, Y3_train)"
   ]
  },
  {
   "cell_type": "code",
   "execution_count": null,
   "id": "3cf7cad2",
   "metadata": {},
   "outputs": [],
   "source": [
    "from sklearn.metrics import accuracy_score, precision_score, recall_score"
   ]
  },
  {
   "cell_type": "code",
   "execution_count": null,
   "id": "e8391061",
   "metadata": {},
   "outputs": [],
   "source": [
    "# model statistics\n",
    "y_pred = knn.predict(X3_test)\n",
    "accuracy = accuracy_score(Y3_test, y_pred)\n",
    "precision = precision_score(Y3_test, y_pred, average='micro')\n",
    "recall = recall_score(Y3_test, y_pred, average='micro')\n",
    "print(\"Accuracy:\", accuracy)\n",
    "print(\"Precision:\", precision)\n",
    "print(\"Recall:\", recall)"
   ]
  },
  {
   "cell_type": "code",
   "execution_count": null,
   "id": "d59e652f",
   "metadata": {},
   "outputs": [],
   "source": [
    "# Try the model but this time comparing bodyweight and equiptment to their resulting total lifts rounded to the 100s\n",
    "knn2 = KNeighborsClassifier(n_neighbors=100)\n",
    "X3 = df5[[\"BodyweightKg\",\"Equipment\"]]\n",
    "y3 = df5[\"Total_wt_lifted\"].round(-2)\n",
    "X4_train, X4_test, Y4_train, Y4_test = train_test_split(X3, y3,random_state=150, test_size=0.25, shuffle=True)"
   ]
  },
  {
   "cell_type": "code",
   "execution_count": null,
   "id": "837cdbcc",
   "metadata": {},
   "outputs": [],
   "source": [
    "knn2.fit(X4_train, Y4_train)"
   ]
  },
  {
   "cell_type": "code",
   "execution_count": null,
   "id": "7f17fe1f",
   "metadata": {},
   "outputs": [],
   "source": [
    "# model statistics\n",
    "y_pred = knn2.predict(X4_test)\n",
    "accuracy = accuracy_score(Y4_test, y_pred)\n",
    "precision = precision_score(Y4_test, y_pred, average='micro')\n",
    "recall = recall_score(Y4_test, y_pred, average='micro')\n",
    "print(\"Accuracy:\", accuracy)\n",
    "print(\"Precision:\", precision)\n",
    "print(\"Recall:\", recall)"
   ]
  },
  {
   "cell_type": "code",
   "execution_count": null,
   "id": "edc313a7",
   "metadata": {},
   "outputs": [],
   "source": [
    "# try knn but seperate gender and equiptment out before comparing bodyweight to total\n",
    "# Select male and raw\n",
    "knn3 = KNeighborsClassifier(n_neighbors=150)\n",
    "X4 = df5.loc[(df5['Sex'] == 1)&(df5[\"Equipment\"] == 1)][\"BodyweightKg\"].values.reshape(-1,1)\n",
    "y4 = df5.loc[(df5['Sex'] == 1)&(df5[\"Equipment\"] == 1)][\"Total_wt_lifted\"].round(-2)\n",
    "X5_train, X5_test, Y5_train, Y5_test = train_test_split(X4, y4,random_state=150, test_size=0.25, shuffle=True)"
   ]
  },
  {
   "cell_type": "code",
   "execution_count": null,
   "id": "77620034",
   "metadata": {},
   "outputs": [],
   "source": [
    "knn3.fit(X5_train, Y5_train)"
   ]
  },
  {
   "cell_type": "code",
   "execution_count": null,
   "id": "53b01372",
   "metadata": {},
   "outputs": [],
   "source": [
    "# model statistics\n",
    "y_pred = knn3.predict(X5_test)\n",
    "accuracy = accuracy_score(Y5_test, y_pred)\n",
    "precision = precision_score(Y5_test, y_pred, average='micro')\n",
    "recall = recall_score(Y5_test, y_pred, average='micro')\n",
    "print(\"Accuracy:\", accuracy)\n",
    "print(\"Precision:\", precision)\n",
    "print(\"Recall:\", recall)"
   ]
  },
  {
   "cell_type": "code",
   "execution_count": null,
   "id": "3c4aa077",
   "metadata": {},
   "outputs": [],
   "source": [
    "# compare squat to total\n",
    "knn4 = KNeighborsClassifier(n_neighbors=200)\n",
    "X5 = df5[\"Best3SquatKg\"].values.reshape(-1,1)\n",
    "y5 = df5[\"Total_wt_lifted\"].round(-2)\n",
    "X6_train, X6_test, Y6_train, Y6_test = train_test_split(X5, y5,random_state=150, test_size=0.25, shuffle=True)"
   ]
  },
  {
   "cell_type": "code",
   "execution_count": null,
   "id": "d9e6cb74",
   "metadata": {},
   "outputs": [],
   "source": [
    "knn4.fit(X6_train, Y6_train)"
   ]
  },
  {
   "cell_type": "code",
   "execution_count": null,
   "id": "5879ef4b",
   "metadata": {},
   "outputs": [],
   "source": [
    "# model statistics\n",
    "y_pred = knn4.predict(X6_test)\n",
    "accuracy = accuracy_score(Y6_test, y_pred)\n",
    "precision = precision_score(Y6_test, y_pred, average='micro')\n",
    "recall = recall_score(Y6_test, y_pred, average='micro')\n",
    "print(\"Accuracy:\", accuracy)\n",
    "print(\"Precision:\", precision)\n",
    "print(\"Recall:\", recall)"
   ]
  },
  {
   "cell_type": "code",
   "execution_count": null,
   "id": "f8d4d6e5",
   "metadata": {},
   "outputs": [],
   "source": [
    "# compare bench to total\n",
    "knn5 = KNeighborsClassifier(n_neighbors=200)\n",
    "X6 = df5[\"Best3SquatKg\"].values.reshape(-1,1)\n",
    "y6 = df5[\"Total_wt_lifted\"].round(-2)\n",
    "X7_train, X7_test, Y7_train, Y7_test = train_test_split(X6, y6,random_state=150, test_size=0.25, shuffle=True)\n",
    "knn5.fit(X7_train, Y7_train)\n",
    "# model statistics\n",
    "y_pred = knn5.predict(X7_test)\n",
    "accuracy = accuracy_score(Y7_test, y_pred)\n",
    "precision = precision_score(Y7_test, y_pred, average='micro')\n",
    "recall = recall_score(Y7_test, y_pred, average='micro')\n",
    "print(\"Accuracy:\", accuracy)\n",
    "print(\"Precision:\", precision)\n",
    "print(\"Recall:\", recall)"
   ]
  },
  {
   "cell_type": "code",
   "execution_count": null,
   "id": "48f60324",
   "metadata": {},
   "outputs": [],
   "source": [
    "# compare deadlift to total\n",
    "knn6 = KNeighborsClassifier(n_neighbors=200)\n",
    "X7 = df5[\"Best3SquatKg\"].values.reshape(-1,1)\n",
    "y7 = df5[\"Total_wt_lifted\"].round(-2)\n",
    "X8_train, X8_test, Y8_train, Y8_test = train_test_split(X7, y7,random_state=150, test_size=0.25, shuffle=True)\n",
    "knn6.fit(X8_train, Y8_train)\n",
    "# model statistics\n",
    "y_pred = knn6.predict(X8_test)\n",
    "accuracy = accuracy_score(Y8_test, y_pred)\n",
    "precision = precision_score(Y8_test, y_pred, average='micro')\n",
    "recall = recall_score(Y8_test, y_pred, average='micro')\n",
    "print(\"Accuracy:\", accuracy)\n",
    "print(\"Precision:\", precision)\n",
    "print(\"Recall:\", recall)"
   ]
  },
  {
   "cell_type": "code",
   "execution_count": null,
   "id": "4fa5d9f3",
   "metadata": {},
   "outputs": [],
   "source": [
    "from sklearn.linear_model import LogisticRegression"
   ]
  },
  {
   "cell_type": "code",
   "execution_count": null,
   "id": "1618c122",
   "metadata": {},
   "outputs": [],
   "source": [
    "sns.scatterplot(x=df5['BodyweightKg'],y=df5['Sex'], hue=df5['Total_wt_lifted'])"
   ]
  },
  {
   "cell_type": "code",
   "execution_count": null,
   "id": "7dd77c03",
   "metadata": {},
   "outputs": [],
   "source": [
    "sns.scatterplot(x=df5['BodyweightKg'],y=df5['Equipment'], hue=df5['Total_wt_lifted'])"
   ]
  },
  {
   "cell_type": "code",
   "execution_count": null,
   "id": "cd89b541",
   "metadata": {},
   "outputs": [],
   "source": [
    "# based on age, weight, gender, lifts, and total where they equipped\n",
    "X9 = df5.drop('Equipment',axis=1)\n",
    "y9 = df5[\"Equipment\"]\n",
    "# split\n",
    "X9_train, X9_test, Y9_train, Y9_test = train_test_split(X9, y9,random_state=150, test_size=0.25, shuffle=True)\n",
    "# instantiate the model (using the default parameters)\n",
    "logreg = LogisticRegression(random_state=16)\n",
    "# fit the model with data\n",
    "logreg.fit(X9_train, Y9_train)\n",
    "y_pred = logreg.predict(X9_test)\n",
    "accuracy = accuracy_score(Y9_test, y_pred)\n",
    "precision = precision_score(Y9_test, y_pred, average='micro')\n",
    "recall = recall_score(Y9_test, y_pred, average='micro')\n",
    "print(\"Accuracy:\", accuracy)\n",
    "print(\"Precision:\", precision)\n",
    "print(\"Recall:\", recall)"
   ]
  },
  {
   "cell_type": "code",
   "execution_count": null,
   "id": "3bfd1380",
   "metadata": {},
   "outputs": [],
   "source": [
    "# based on age, weight, equipment, lifts, and total what gender where they\n",
    "X10 = df5.drop('Sex',axis=1)\n",
    "y10 = df5[\"Sex\"]\n",
    "# split\n",
    "X10_train, X10_test, Y10_train, Y10_test = train_test_split(X10, y10,random_state=150, test_size=0.25, shuffle=True)\n",
    "# instantiate the model (using the default parameters)\n",
    "logreg = LogisticRegression(random_state=16)\n",
    "# fit the model with data\n",
    "logreg.fit(X10_train, Y10_train)\n",
    "y_pred = logreg.predict(X10_test)\n",
    "accuracy = accuracy_score(Y10_test, y_pred)\n",
    "precision = precision_score(Y10_test, y_pred, average='micro')\n",
    "recall = recall_score(Y10_test, y_pred, average='micro')\n",
    "print(\"Accuracy:\", accuracy)\n",
    "print(\"Precision:\", precision)\n",
    "print(\"Recall:\", recall)"
   ]
  },
  {
   "attachments": {},
   "cell_type": "markdown",
   "id": "64fbb0b8",
   "metadata": {},
   "source": [
    "# REFERENCES\n",
    "https://www.oreilly.com/library/view/hands-on-machine-learning/9781788393485/fd5b8a44-e9d3-4c19-bebb-c2fa5a5ebfee.xhtml#:~:text=Min%2Dmax%20normalization%20(usually%20called,among%20the%20original%20data%20values.\n",
    "\n",
    "https://stackoverflow.com/questions/26785354/normalizing-a-list-of-numbers-in-python\n",
    "\n",
    "https://developers.google.com/machine-learning/data-prep/transform/normalization#:~:text=The%20goal%20of%20normalization%20is,training%20stability%20of%20the%20model.\n",
    "\n",
    "https://pandas.pydata.org/docs/reference/api/pandas.DataFrame.from_dict.html\n",
    "\n",
    "https://pandas.pydata.org/docs/reference/api/pandas.Series.value_counts.html\n",
    "\n",
    "https://sparkbyexamples.com/python/count-occurrences-of-element-in-python-list/#:~:text=To%20count%20the%20occurrences%20of%20an%20element%20in%20a%20list,of%20elements%20in%20a%20list.\n",
    "\n",
    "https://matplotlib.org/stable/plot_types/index.html\n",
    "\n",
    "https://www.w3schools.com/python/matplotlib_intro.asp"
   ]
  },
  {
   "attachments": {},
   "cell_type": "markdown",
   "id": "d3da633d",
   "metadata": {},
   "source": [
    "# REFERENCES-PHASE 2\n",
    "https://www.statology.org/one-hot-encoding-in-python/\n",
    "\n",
    "https://www.turing.com/kb/convert-categorical-data-in-pandas-and-scikit-learn\n",
    "\n",
    "https://www.geeksforgeeks.org/how-to-do-train-test-split-using-sklearn-in-python/\n",
    "\n",
    "https://medium.com/@alexstrebeck/training-and-testing-machine-learning-models-e1f27dc9b3cb\n",
    "\n",
    "https://towardsdatascience.com/linear-regression-using-python-b136c91bf0a2\n",
    "\n",
    "https://scikit-learn.org/stable/modules/generated/sklearn.linear_model.LinearRegression.html\n",
    "\n",
    "https://scikit-learn.org/stable/modules/generated/sklearn.linear_model.Ridge.html\n",
    "\n",
    "https://scikit-learn.org/stable/modules/generated/sklearn.linear_model.Lasso.html\n",
    "\n",
    "https://scikit-learn.org/stable/modules/generated/sklearn.neighbors.KNeighborsClassifier.html\n",
    "\n",
    "https://www.datacamp.com/tutorial/k-nearest-neighbor-classification-scikit-learn\n",
    "\n",
    "https://scikit-learn.org/stable/modules/generated/sklearn.linear_model.LogisticRegression.html\n",
    "\n",
    "https://www.datacamp.com/tutorial/understanding-logistic-regression-python"
   ]
  },
  {
   "cell_type": "code",
   "execution_count": null,
   "id": "6580ae1c",
   "metadata": {},
   "outputs": [],
   "source": []
  }
 ],
 "metadata": {
  "kernelspec": {
   "display_name": "Python 3 (ipykernel)",
   "language": "python",
   "name": "python3"
  },
  "language_info": {
   "codemirror_mode": {
    "name": "ipython",
    "version": 3
   },
   "file_extension": ".py",
   "mimetype": "text/x-python",
   "name": "python",
   "nbconvert_exporter": "python",
   "pygments_lexer": "ipython3",
   "version": "3.11.3"
  },
  "vscode": {
   "interpreter": {
    "hash": "af7a29c07b3b788542814c18ed7fd41718ddab3eb4374c99930dfea39a2fbbe6"
   }
  }
 },
 "nbformat": 4,
 "nbformat_minor": 5
}
