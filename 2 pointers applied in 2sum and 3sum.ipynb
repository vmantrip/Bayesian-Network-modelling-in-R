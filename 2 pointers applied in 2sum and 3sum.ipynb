{
 "cells": [
  {
   "cell_type": "markdown",
   "id": "791c299c",
   "metadata": {},
   "source": [
    "# 2 pointers, 2sum and 3 sum video assignment"
   ]
  },
  {
   "cell_type": "markdown",
   "id": "fcb9b4aa",
   "metadata": {},
   "source": [
    "## 2 pointer problem\n",
    "\n",
    "Purpose: Intialize 2 pointers and iterate over an array until a certain condition is satisfied.\n",
    "\n",
    "Logic: The 2 pointers which we initialized help us to keep track of 2 values simultaneously.\n",
    "\n",
    "Direction of iteration: The 2 pointers which we initialized can be used to iterate either in one or two directions."
   ]
  },
  {
   "cell_type": "code",
   "execution_count": 92,
   "id": "65afd971",
   "metadata": {},
   "outputs": [
    {
     "name": "stdout",
     "output_type": "stream",
     "text": [
      "False\n",
      "True\n",
      "False\n"
     ]
    }
   ],
   "source": [
    "def valid_palindrome(string):\n",
    "    \"\"\"\n",
    "    IF statement checks for an inequality between the 2 pointers. \n",
    "    False is returned if an inequality is found.\n",
    "    When the IF statement is not satisfied the while loop continues with updated indices.\n",
    "    \n",
    "    Note: the Algorithm defined below is \"CASE SENSITVE.\"\n",
    "    ASCII value of uppercase alphabets – 65 to 90. ASCII value of lowercase alphabets – 97 to 122.\n",
    "    ASCII vales can be found using the ord() function in python.\n",
    "    Suggestion: If we were to compare corresponding ASCII values using a scaled logic:\n",
    "    \n",
    "    if ord(<alphabet>)>=97 and ord(<alphabet>)<=122:\n",
    "        updated_ascii=ord(<alphabet>)-32\n",
    "    Using above logic we can compare capital and small letters 'ON THE SAME SCALE!'\n",
    "    \"\"\"\n",
    "    left_index = 0#The left pointer takes up the first element of the list\n",
    "    right_index = len(string)-1# The right pointer takes of the last element of the list\n",
    "      \n",
    "    while left_index < right_index:\n",
    "        if string[left_index] != string[right_index]:#Insight! stated in above multi line comment\n",
    "            return False\n",
    "        \n",
    "        left_index += 1# updating left pointer \n",
    "        right_index -= 1#updating the right pointer\n",
    "        \n",
    "    return True\n",
    "\n",
    "  \n",
    "print(valid_palindrome('California'))#False is rturned\n",
    "print(valid_palindrome('MADAM'))#True is returned\n",
    "print(valid_palindrome('Madam'))#False is returned! Algorithm is case sensitive."
   ]
  },
  {
   "cell_type": "markdown",
   "id": "34abe0e0",
   "metadata": {},
   "source": [
    "Time complexity: O(n) as the time for iteration of pointers in the while loop depends on length of input string."
   ]
  },
  {
   "cell_type": "code",
   "execution_count": null,
   "id": "022ca866",
   "metadata": {},
   "outputs": [],
   "source": []
  },
  {
   "cell_type": "code",
   "execution_count": null,
   "id": "f0a7ca94",
   "metadata": {},
   "outputs": [],
   "source": []
  },
  {
   "cell_type": "markdown",
   "id": "e55418d7",
   "metadata": {},
   "source": [
    "## 2sum\n",
    "\n",
    "Leetcode link: https://leetcode.com/problems/two-sum/\n",
    "\n",
    "Problem description: Given an array of integers nums and an integer target, return indices of the two numbers such that they add up to target.\n",
    "\n",
    "Assumption: You may assume that each input would have exactly one solution, and you may not use the same element twice.\n",
    "\n",
    "You can return the answer in any order."
   ]
  },
  {
   "cell_type": "code",
   "execution_count": 93,
   "id": "e598e073",
   "metadata": {},
   "outputs": [
    {
     "name": "stdout",
     "output_type": "stream",
     "text": [
      "(21, 60, 'Index1 is 1', 'Index2 is 5')\n"
     ]
    }
   ],
   "source": [
    "# Solution 1-Brute force lookup\n",
    "\"\"\"\n",
    "Here 2 for loops are used to search for required values in the list the add up to the target.\n",
    "Index variables are also checked to avoid repeated additions and additions with element itself.\n",
    "The algorith is Naive and time consuming for large datsets\n",
    "Insight: 2 pointer logic is used wher both pointers are travelling in \"SAME\" direction from starting to end of list.\n",
    "\"\"\"\n",
    "def two_sum(nums, target):\n",
    "    N = len(nums)\n",
    "    for i in range(N):# First for loop to iterate 1st pointer i.\n",
    "        val_at_i = nums[i]\n",
    "        for j in range(N):# 2nd for loop to iterate second pointer j.\n",
    "            val_at_j = nums[j]\n",
    "            if (val_at_i + val_at_j) == target and i != j:#Checking if target sum is achieved and indices are different.\n",
    "                return (val_at_i, val_at_j,f'Index1 is {i}',f'Index2 is {j}')\n",
    "\n",
    "nums = [1,21,3,14,5,60,7,6,40]\n",
    "target = 81\n",
    "print(two_sum(nums, target))"
   ]
  },
  {
   "cell_type": "code",
   "execution_count": 94,
   "id": "833e2ef5",
   "metadata": {},
   "outputs": [
    {
     "name": "stdout",
     "output_type": "stream",
     "text": [
      "(2, 7, 'Index1 is 0', 'Index2 is 1')\n"
     ]
    }
   ],
   "source": [
    "nums2 = [2, 7, 11, 15]\n",
    "target2 = 9\n",
    "print(two_sum(nums2, target2))"
   ]
  },
  {
   "cell_type": "code",
   "execution_count": null,
   "id": "af3fbc82",
   "metadata": {},
   "outputs": [],
   "source": []
  },
  {
   "cell_type": "code",
   "execution_count": null,
   "id": "093fab81",
   "metadata": {},
   "outputs": [],
   "source": []
  },
  {
   "cell_type": "markdown",
   "id": "07327145",
   "metadata": {},
   "source": [
    "Time complexity: O(n^2). This is due to the presence of nested for loops where each for loop looks up all values from starting to end of the ist!\n",
    "\n",
    "Space complexity: O(1). This is because no new data structures have been created."
   ]
  },
  {
   "cell_type": "code",
   "execution_count": 95,
   "id": "9073619a",
   "metadata": {},
   "outputs": [
    {
     "name": "stdout",
     "output_type": "stream",
     "text": [
      "(50, 30)\n",
      "(40, 40)\n"
     ]
    }
   ],
   "source": [
    "# Solution2 - Complement logic \n",
    "\"\"\"\n",
    "Here the for loop initiates 1st pointer i and a complement is calculated using this first pointer.\n",
    "Now an 'in' condition is used inside an if statement to look for the complement in the list. - Searching operation!\n",
    "The above in statement intoduces the second pointer!\n",
    "\n",
    "\"\"\"\n",
    "\n",
    "def two_sum(lst, k):\n",
    "    for ele in lst: \n",
    "        complement = k - ele\n",
    "        if complement in lst: #If this condition is met the corresponding elemennts are returened. But duplicates can cause an issue\n",
    "            return (ele, complement)\n",
    "\n",
    "lst = [1,50,3,14,5,30,7,6]\n",
    "lst2 = [1,21,3,14,5,60,7,6,40]\n",
    "k = 80\n",
    "print(two_sum(lst, k))\n",
    "print(two_sum(lst2, k))# 40 occurs only once! but two 40s are printed!. "
   ]
  },
  {
   "cell_type": "code",
   "execution_count": 96,
   "id": "7c508034",
   "metadata": {},
   "outputs": [],
   "source": [
    " #the two-pointer solution assumes the array is sorted. This is important because it reduce serach complexity!"
   ]
  },
  {
   "cell_type": "code",
   "execution_count": 97,
   "id": "7bc62ff5",
   "metadata": {},
   "outputs": [],
   "source": [
    "# Solution3 - Sort and then do binary search to reduce search complexity "
   ]
  },
  {
   "cell_type": "code",
   "execution_count": 98,
   "id": "30860240",
   "metadata": {},
   "outputs": [
    {
     "name": "stdout",
     "output_type": "stream",
     "text": [
      "[1, 32, 45, 57, 78, 90]\n",
      "0 5\n",
      "3 5\n",
      "3 3\n",
      "[1, 32, 45, 57, 78, 90]\n",
      "0 5\n",
      "(32, 45)\n"
     ]
    }
   ],
   "source": [
    "def binary_search(array, target):\n",
    "    \"\"\"\n",
    "    Q) Why should we start binary search with a sorted array?\n",
    "    If sorted array is the input, then the low and high pointers here will be properly updated in less number of iterations.\n",
    "    Also we can see the updation progressing towards the median values.\n",
    "    \"\"\"\n",
    "    low = 0\n",
    "    high = len(array) - 1\n",
    "    print(array)\n",
    "    \n",
    "    while low <= high:\n",
    "        print(low,high)# So when low and high indicat the same value, the mid varible is returned \n",
    "        mid = (low + high) // 2 #Integer division to obtain middle index\n",
    "        diff = target - array[mid]\n",
    "        if diff == 0:\n",
    "            return mid\n",
    "        elif diff < 0:# So array[mid]> target. So high pointer is updated.\n",
    "            high = mid - 1\n",
    "        else:# So array[mid]< target. So low pointer is updated.\n",
    "            low = mid + 1\n",
    "    return -1\n",
    "\n",
    "def two_sum(nums, target):\n",
    "    N = len(nums)\n",
    "    nums.sort() \n",
    "    for i in range(N):\n",
    "        val_at_i = nums[i]\n",
    "        complement = target - val_at_i\n",
    "        index = binary_search(nums, complement)# Here i use binary search to locate index of complement in the sorted array.\n",
    "        if (index > -1 and index != i):\n",
    "            return (val_at_i, nums[index])\n",
    "        \n",
    "\n",
    "nums = [1,90, 78, 45, 32, 57]\n",
    "target = 45 + 32\n",
    "print(two_sum(nums, target))  "
   ]
  },
  {
   "cell_type": "markdown",
   "id": "62163483",
   "metadata": {},
   "source": [
    "Time complexity: In the funcction two_sums once we start with a sorted array we are just doing one for loop and one while loop along with reading operations.\n",
    "Hence, O(n*log(n)+n+n)=O(n*log(n))\n",
    "overall timne complexity is: O(n*log(n))\n",
    "\n",
    "Space Complexity = O(1). No new data structures have been created!"
   ]
  },
  {
   "cell_type": "markdown",
   "id": "1401b795",
   "metadata": {},
   "source": [
    "## 3sum\n",
    "\n",
    "Leetcode link: https://leetcode.com/problems/3sum/\n",
    "\n",
    "Description: Given an integer array nums, \n",
    "\n",
    "Constraints: return all the triplets [nums[i], nums[j], nums[k]] such that i != j, i != k, and j != k, and nums[i] + nums[j] + nums[k] == 0.\n",
    "\n",
    "Notice that the solution set must not contain duplicate triplets.\n",
    "\n"
   ]
  },
  {
   "cell_type": "code",
   "execution_count": 99,
   "id": "e5bc28d4",
   "metadata": {},
   "outputs": [
    {
     "name": "stdout",
     "output_type": "stream",
     "text": [
      "[-4, -1, -1, 0, 1, 2] -1 2 Target is 0. Sum is -3.\n",
      "[-4, -1, -1, 0, 1, 2] -1 2 Target is 0. Sum is -3.\n",
      "[-4, -1, -1, 0, 1, 2] 0 2 Target is 0. Sum is -2.\n",
      "[-4, -1, -1, 0, 1, 2] 1 2 Target is 0. Sum is -1.\n",
      "[-1, -1, 0, 1, 2] -1 2 Target is 0. Sum is 0.\n",
      "[-1, 0, 1, 2] 0 2 Target is 0. Sum is 1.\n",
      "[-1, 0, 1, 2] 0 1 Target is 0. Sum is 0.\n",
      "[0, 1, 2] 1 2 Target is 0. Sum is 3.\n",
      "[(2, -1, -1), (1, -1, 0)]\n"
     ]
    }
   ],
   "source": [
    "# Solution\n",
    "\n",
    "\"\"\"\n",
    "Here the 3 sum logic can be thought of as a 2 pointer logic in a list whose length is decreasing from one end.\n",
    "In below exapmle, i - pointer1 is changing length of list. \n",
    "left_p and right_p are 2 pointers inside the list created by pointer i\n",
    "\"\"\"\n",
    "nums = [-1,0,1,2,-1,-4]\n",
    "\n",
    "def threeSum(nums, target):\n",
    "    combinations = []\n",
    "    nums.sort() # n log n\n",
    "    \n",
    "    N = len(nums)\n",
    "    for i in range(0, N-2):#Pointer1\n",
    "        left_p = i + 1#Pointer2\n",
    "        right_p = N-1#Pointer3\n",
    "        \n",
    "        while (left_p < right_p):\n",
    "            x, y, z = nums[right_p], nums[i], nums[left_p]\n",
    "            \n",
    "            triplet = x + y + z\n",
    "            print(nums[i:len(nums)],nums[left_p],nums[right_p],f'Target is {target}. Sum is {triplet}.')# Understanding comparisons!\n",
    "            if triplet == target:#If Target is achieved the values are stored in list named combinations and while loop breaks. \n",
    "                combinations.append((x,y,z))\n",
    "                break\n",
    "            elif triplet < target:\n",
    "                left_p += 1\n",
    "            elif triplet > target:\n",
    "                right_p -= 1\n",
    "    return combinations \n",
    "\n",
    "print(threeSum(nums, 0))       \n"
   ]
  },
  {
   "cell_type": "code",
   "execution_count": 100,
   "id": "15a5ef89",
   "metadata": {},
   "outputs": [
    {
     "name": "stdout",
     "output_type": "stream",
     "text": [
      "[0, 1, 2, 2, 3, 4, 4, 5, 8] 1 8 Target is 8. Sum is 9.\n",
      "[0, 1, 2, 2, 3, 4, 4, 5, 8] 1 5 Target is 8. Sum is 6.\n",
      "[0, 1, 2, 2, 3, 4, 4, 5, 8] 2 5 Target is 8. Sum is 7.\n",
      "[0, 1, 2, 2, 3, 4, 4, 5, 8] 2 5 Target is 8. Sum is 7.\n",
      "[0, 1, 2, 2, 3, 4, 4, 5, 8] 3 5 Target is 8. Sum is 8.\n",
      "[1, 2, 2, 3, 4, 4, 5, 8] 2 8 Target is 8. Sum is 11.\n",
      "[1, 2, 2, 3, 4, 4, 5, 8] 2 5 Target is 8. Sum is 8.\n",
      "[2, 2, 3, 4, 4, 5, 8] 2 8 Target is 8. Sum is 12.\n",
      "[2, 2, 3, 4, 4, 5, 8] 2 5 Target is 8. Sum is 9.\n",
      "[2, 2, 3, 4, 4, 5, 8] 2 4 Target is 8. Sum is 8.\n",
      "[2, 3, 4, 4, 5, 8] 3 8 Target is 8. Sum is 13.\n",
      "[2, 3, 4, 4, 5, 8] 3 5 Target is 8. Sum is 10.\n",
      "[2, 3, 4, 4, 5, 8] 3 4 Target is 8. Sum is 9.\n",
      "[2, 3, 4, 4, 5, 8] 3 4 Target is 8. Sum is 9.\n",
      "[3, 4, 4, 5, 8] 4 8 Target is 8. Sum is 15.\n",
      "[3, 4, 4, 5, 8] 4 5 Target is 8. Sum is 12.\n",
      "[3, 4, 4, 5, 8] 4 4 Target is 8. Sum is 11.\n",
      "[4, 4, 5, 8] 4 8 Target is 8. Sum is 16.\n",
      "[4, 4, 5, 8] 4 5 Target is 8. Sum is 13.\n",
      "[4, 5, 8] 5 8 Target is 8. Sum is 17.\n",
      "[(5, 0, 3), (5, 1, 2), (4, 2, 2)]\n"
     ]
    }
   ],
   "source": [
    "nums2= [2,8,0,5,3,4,2,1,4]\n",
    "\n",
    "print(threeSum(nums2, 8)) "
   ]
  },
  {
   "cell_type": "markdown",
   "id": "8ce0e423",
   "metadata": {},
   "source": [
    "Time complexity: O(n^2)\n",
    "\n",
    "sort – n log n\n",
    "\n",
    "nested loop – n^2 (1 for loop and 1 while loop.)\n",
    "\n",
    "final – O(n^2 + n log n) = O(n^2)\n",
    "    \n",
    "Space complexity: O(n)\n",
    "\n",
    "A new list combinations is created and as stated in above 2 exaples the size of combiation list depends on the data present ininside the input list. Therfore, space complexity is O(n)."
   ]
  },
  {
   "cell_type": "markdown",
   "id": "8c06e25c",
   "metadata": {},
   "source": [
    "References: https://cda500.netlify.app/chapters/intro.html\n"
   ]
  },
  {
   "cell_type": "code",
   "execution_count": null,
   "id": "2e6c6dce",
   "metadata": {},
   "outputs": [],
   "source": []
  },
  {
   "cell_type": "code",
   "execution_count": null,
   "id": "9b5acb20",
   "metadata": {},
   "outputs": [],
   "source": []
  },
  {
   "cell_type": "code",
   "execution_count": null,
   "id": "54a2f6f2",
   "metadata": {},
   "outputs": [],
   "source": []
  },
  {
   "cell_type": "code",
   "execution_count": null,
   "id": "e565a076",
   "metadata": {},
   "outputs": [],
   "source": []
  },
  {
   "cell_type": "code",
   "execution_count": null,
   "id": "bcaa4ef5",
   "metadata": {},
   "outputs": [],
   "source": []
  }
 ],
 "metadata": {
  "kernelspec": {
   "display_name": "Python 3 (ipykernel)",
   "language": "python",
   "name": "python3"
  },
  "language_info": {
   "codemirror_mode": {
    "name": "ipython",
    "version": 3
   },
   "file_extension": ".py",
   "mimetype": "text/x-python",
   "name": "python",
   "nbconvert_exporter": "python",
   "pygments_lexer": "ipython3",
   "version": "3.11.3"
  }
 },
 "nbformat": 4,
 "nbformat_minor": 5
}
